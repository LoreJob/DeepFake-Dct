{
 "cells": [
  {
   "cell_type": "markdown",
   "metadata": {},
   "source": [
    "# Training the CNN\n",
    "\n",
    "I will train a cnn on the images of the folder Dataset, this resulting CNN will be applied to each frame of a video and will return an embedding for each frame. This will be fed into a LSTM to classify the video as either real or fake\n",
    "\n"
   ]
  },
  {
   "cell_type": "markdown",
   "metadata": {},
   "source": [
    "## Image preprocessing\n",
    "\n",
    "the images in the Dataset folder are 256x256 pixels, but the videos we are classifying with the LSTM will be preprocessed to be 64x64. For this reason, the CNN as well will be trained on images 64x64. The following code will resize the dataset and prepare the dataloader object to train the CNN\n"
   ]
  },
  {
   "cell_type": "code",
   "execution_count": 16,
   "metadata": {},
   "outputs": [
    {
     "name": "stderr",
     "output_type": "stream",
     "text": [
      "Processing Train real: 100%|██████████| 70001/70001 [03:19<00:00, 351.50it/s]\n",
      "Processing Train fake: 100%|██████████| 70001/70001 [03:22<00:00, 344.97it/s]\n",
      "Processing Validation real: 100%|██████████| 19787/19787 [00:54<00:00, 365.66it/s]\n",
      "Processing Validation fake: 100%|██████████| 19641/19641 [00:53<00:00, 366.82it/s]\n",
      "Processing Test real: 100%|██████████| 5413/5413 [00:14<00:00, 366.39it/s]\n",
      "Processing Test fake: 100%|██████████| 5492/5492 [00:15<00:00, 355.21it/s]\n"
     ]
    }
   ],
   "source": [
    "import torch\n",
    "from torchvision.io import read_image\n",
    "from torchvision.transforms.functional import resize\n",
    "import os\n",
    "from tqdm import tqdm\n",
    "\n",
    "def resize_image(img_path):\n",
    "    img = read_image(img_path)\n",
    "    return resize(img, size = [64,64])\n",
    "\n",
    "# testing the function\n",
    "# import matplotlib.pyplot as plt\n",
    "# before = read_image(\"Dataset/Validation/fake/fake_0.jpg\")\n",
    "# after = resize_image(\"Dataset/Validation/fake/fake_0.jpg\")\n",
    "# fig, axes = plt.subplots(nrows= 1, ncols= 2)\n",
    "# axes = axes.flatten()\n",
    "# axes[0].imshow(before.permute(1,2,0))\n",
    "# axes[1].imshow(after.permute(1,2,0))\n",
    "\n",
    "def resize_dataset(output_dir):\n",
    "    for subset in ['Train', 'Validation', 'Test']:\n",
    "        for class_name in ['real', 'fake']:\n",
    "            input_dir = os.path.join(\"Dataset\", subset, class_name)\n",
    "            new_output_dir = os.path.join(output_dir, subset, class_name)\n",
    "            os.makedirs(new_output_dir, exist_ok=True)\n",
    "            \n",
    "            img_files = [f for f in os.listdir(input_dir) if f.endswith('.jpg')]\n",
    "            \n",
    "            for img_file in tqdm(img_files, desc=f\"Processing {subset} {class_name}\"):\n",
    "                video_path = os.path.join(input_dir, img_file)\n",
    "                processed_image = resize_image(video_path)\n",
    "                \n",
    "                output_path = os.path.join(new_output_dir, img_file.replace('.jpg', '.pth'))\n",
    "                torch.save(processed_image, output_path)\n",
    "\n",
    "# resize_dataset(\"..\\\\resized_images\")"
   ]
  },
  {
   "cell_type": "markdown",
   "metadata": {},
   "source": [
    "## Datasets and Data loaders"
   ]
  },
  {
   "cell_type": "code",
   "execution_count": 1,
   "metadata": {},
   "outputs": [],
   "source": [
    "import os\n",
    "from torch.utils.data import Dataset, DataLoader\n",
    "import torch\n",
    "import numpy as np\n",
    "from tqdm import tqdm\n",
    "import torch.nn as nn\n",
    "\n",
    "IMG_DATA_BATCH_SIZE = 32\n",
    "DEVICE = \"cuda\"\n",
    "CLASS_THRESHOLD = 0.5\n",
    "LR = 0.0001\n",
    "\n",
    "class ImageDataset(Dataset):\n",
    "\n",
    "    def __init__(self, processed_dir = \"../resized_images\", subset = \"Train\", batch_size = IMG_DATA_BATCH_SIZE, device = DEVICE):\n",
    "        self.directory = processed_dir+\"/\"+subset\n",
    "        self.batch_size = batch_size\n",
    "        self.device = device\n",
    "        self.images = self._get_img_paths()\n",
    "        self._shuffle_data()\n",
    "        self.length = int(len(self.images)/self.batch_size) + 1\n",
    "    \n",
    "    def _get_img_paths(self):\n",
    "        imgs = []\n",
    "        for img_path in os.listdir(self.directory + \"/Fake\"):\n",
    "            imgs.append((self.directory + \"/Fake/\"+img_path, 1))\n",
    "        for img_path in os.listdir(self.directory + \"/Real\"):\n",
    "            imgs.append((self.directory + \"/Real/\"+img_path, 0))\n",
    "        return imgs\n",
    "    \n",
    "    def _shuffle_data(self):\n",
    "        np.random.shuffle(self.images)\n",
    "    \n",
    "    def __getitem__(self,index):\n",
    "        images = []\n",
    "        labels = []\n",
    "        for img, label in self.images[index*self.batch_size:(index+1)*self.batch_size]:\n",
    "            labels.append(label)\n",
    "            images.append(torch.load(img)/256)\n",
    "            x = torch.stack(images).to(self.device)\n",
    "            y = torch.tensor(labels).to(self.device).to(torch.float32)\n",
    "        return x, y\n",
    "    \n",
    "    def __len__(self):\n",
    "        return self.length\n",
    "    \n",
    "\n",
    "val_img_dataset = ImageDataset(subset=\"Validation\", batch_size= IMG_DATA_BATCH_SIZE, device = DEVICE)\n",
    "train_img_dataset = ImageDataset(subset=\"Train\", batch_size= IMG_DATA_BATCH_SIZE, device = DEVICE)\n",
    "\n",
    "val_img_loader = DataLoader(val_img_dataset, batch_size= None, collate_fn= lambda x: x)\n",
    "train_img_loader = DataLoader(train_img_dataset, batch_size= None, collate_fn= lambda x: x)"
   ]
  },
  {
   "cell_type": "markdown",
   "metadata": {},
   "source": [
    "## Training function"
   ]
  },
  {
   "cell_type": "code",
   "execution_count": 2,
   "metadata": {},
   "outputs": [],
   "source": [
    "def train_loop(model, epochs, train_loader, val_loader, class_threshold = CLASS_THRESHOLD):\n",
    "\n",
    "    history = dict()\n",
    "\n",
    "    for e in range(1,epochs+1):\n",
    "\n",
    "        model.train()\n",
    "        print(\"-\"*40+f\"|EPOCH {e}|\"+\"-\"*40)\n",
    "        losses = []\n",
    "        for batch, (x,y) in tqdm(enumerate(train_loader),desc = \"Training loop\"):\n",
    "            pred_proba, _ = model(x)\n",
    "            loss_value = model.loss_function(pred_proba,y)\n",
    "            losses.append(loss_value.item())\n",
    "            loss_value.backward()\n",
    "            model.optimizer_function.step()\n",
    "            model.optimizer_function.zero_grad()\n",
    "        print(f\"Train Loss: {np.mean(losses):.5f} | Progress: [{batch+1}/{len(train_loader)}]\")\n",
    "        history[f\"train_loss_epoch_{e}\"] = losses\n",
    "        \n",
    "        model.eval()\n",
    "        loss, correct, val_size = 0,0,0\n",
    "        with torch.no_grad():\n",
    "             for x,y in tqdm(val_loader, desc= \"Validation Loop\"):\n",
    "                  val_size += y.shape[0]\n",
    "                  pred_proba, _ = model(x)\n",
    "                  loss += model.loss_function(pred_proba,y)\n",
    "                  pred_class = (pred_proba > class_threshold).type(torch.float)\n",
    "                  correct += (pred_class == y).type(torch.float).sum().item()\n",
    "        print(f\"Validation Accuracy {(correct/val_size):.2%} | Validation Loss {(loss/len(val_loader)):6f} | Train Loss {np.mean(losses):.5f}\")\n",
    "        history[f\"val_loss_epoch_{e}\"] = loss.item()\n",
    "        history[f\"val_correct_epoch_{e}\"] = correct\n",
    "        history[f\"val_size_epoch_{e}\"] = val_size\n",
    "\n",
    "        train_loader.dataset._shuffle_data()\n",
    "        val_loader.dataset._shuffle_data()\n",
    "\n",
    "    for key, value in history.items():\n",
    "        if isinstance(value, list):\n",
    "            history[key] = np.mean(value).item()\n",
    "    \n",
    "    return history\n",
    "\n",
    "\n",
    "def count_parameters(model):\n",
    "    return sum(p.numel() for p in model.parameters() if p.requires_grad)"
   ]
  },
  {
   "cell_type": "markdown",
   "metadata": {},
   "source": [
    "## Model class"
   ]
  },
  {
   "cell_type": "code",
   "execution_count": 3,
   "metadata": {},
   "outputs": [
    {
     "name": "stdout",
     "output_type": "stream",
     "text": [
      "number of parameter:  466465\n",
      "sequence.0.weight: torch.float32, params: 432\n",
      "sequence.0.bias: torch.float32, params: 16\n",
      "sequence.4.weight: torch.float32, params: 4608\n",
      "sequence.4.bias: torch.float32, params: 32\n",
      "sequence.8.weight: torch.float32, params: 51200\n",
      "sequence.8.bias: torch.float32, params: 64\n",
      "sequence.13.weight: torch.float32, params: 409600\n",
      "sequence.13.bias: torch.float32, params: 256\n",
      "final_layer.0.weight: torch.float32, params: 256\n",
      "final_layer.0.bias: torch.float32, params: 1\n"
     ]
    }
   ],
   "source": [
    "class DF_img_detector(nn.Module):\n",
    "\n",
    "    def __init__(self, sequence, final_layer,\n",
    "                 loss_function,\n",
    "                 optimizer_constructor,\n",
    "                 optimizer_kwargs = {\"lr\": LR}):\n",
    "        super(DF_img_detector, self).__init__()\n",
    "        self.sequence = sequence\n",
    "        self.final_layer = final_layer\n",
    "        self.loss_function = loss_function\n",
    "        self.optimizer_function = optimizer_constructor(self.parameters(),**optimizer_kwargs)\n",
    "        self.to(DEVICE)\n",
    "    \n",
    "    def forward(self, x):\n",
    "        embedding = self.sequence(x)\n",
    "        p_hat = self.final_layer(embedding)\n",
    "        return p_hat.flatten(), embedding\n",
    "    \n",
    "sequence = nn.Sequential(\n",
    "    nn.Conv2d(in_channels=3, out_channels= 16, kernel_size= 3, padding=\"valid\"),\n",
    "    nn.ReLU(),\n",
    "    nn.Dropout(0.1),\n",
    "    nn.MaxPool2d(2),\n",
    "    nn.Conv2d(in_channels=16, out_channels= 32, kernel_size= 3, padding=\"valid\"),\n",
    "    nn.ReLU(),\n",
    "    nn.Dropout(0.1),\n",
    "    nn.MaxPool2d(2),\n",
    "    nn.Conv2d(in_channels=32, out_channels= 64, kernel_size= 5, padding=\"valid\"),\n",
    "    nn.ReLU(),\n",
    "    nn.Dropout(0.4),\n",
    "    nn.MaxPool2d(2),\n",
    "    nn.Flatten(),\n",
    "    nn.Linear(in_features=1600, out_features=256),\n",
    "    nn.ReLU(),\n",
    "    nn.Dropout(0.1)\n",
    ")\n",
    "\n",
    "final_layer = nn.Sequential(\n",
    "    nn.Linear(256,1),\n",
    "    nn.Sigmoid()\n",
    ")\n",
    "\n",
    "model_0 = DF_img_detector(sequence= sequence, final_layer= final_layer,\n",
    "                          loss_function= nn.BCELoss(),\n",
    "                          optimizer_constructor= torch.optim.Adam)\n",
    "\n",
    "print(\"number of parameter: \",count_parameters(model_0))\n",
    "for name, param in model_0.named_parameters():\n",
    "    print(f'{name}: {param.dtype}, params: {param.numel()}')"
   ]
  },
  {
   "cell_type": "markdown",
   "metadata": {},
   "source": [
    "## Training the Model"
   ]
  },
  {
   "cell_type": "code",
   "execution_count": 4,
   "metadata": {},
   "outputs": [
    {
     "name": "stdout",
     "output_type": "stream",
     "text": [
      "----------------------------------------|EPOCH 1|----------------------------------------\n"
     ]
    },
    {
     "name": "stderr",
     "output_type": "stream",
     "text": [
      "Training loop: 4376it [01:57, 37.10it/s]\n"
     ]
    },
    {
     "name": "stdout",
     "output_type": "stream",
     "text": [
      "Train Loss: 0.46408 | Progress: [4376/4376]\n"
     ]
    },
    {
     "name": "stderr",
     "output_type": "stream",
     "text": [
      "Validation Loop: 100%|██████████| 1233/1233 [00:31<00:00, 39.56it/s]\n"
     ]
    },
    {
     "name": "stdout",
     "output_type": "stream",
     "text": [
      "Validation Accuracy 77.91% | Validation Loss 0.479638 | Train Loss 0.46408\n",
      "----------------------------------------|EPOCH 2|----------------------------------------\n"
     ]
    },
    {
     "name": "stderr",
     "output_type": "stream",
     "text": [
      "Training loop: 4376it [01:57, 37.31it/s]\n"
     ]
    },
    {
     "name": "stdout",
     "output_type": "stream",
     "text": [
      "Train Loss: 0.36096 | Progress: [4376/4376]\n"
     ]
    },
    {
     "name": "stderr",
     "output_type": "stream",
     "text": [
      "Validation Loop: 100%|██████████| 1233/1233 [00:30<00:00, 39.86it/s]\n"
     ]
    },
    {
     "name": "stdout",
     "output_type": "stream",
     "text": [
      "Validation Accuracy 82.78% | Validation Loss 0.402225 | Train Loss 0.36096\n",
      "----------------------------------------|EPOCH 3|----------------------------------------\n"
     ]
    },
    {
     "name": "stderr",
     "output_type": "stream",
     "text": [
      "Training loop: 4376it [01:59, 36.77it/s]\n"
     ]
    },
    {
     "name": "stdout",
     "output_type": "stream",
     "text": [
      "Train Loss: 0.30855 | Progress: [4376/4376]\n"
     ]
    },
    {
     "name": "stderr",
     "output_type": "stream",
     "text": [
      "Validation Loop: 100%|██████████| 1233/1233 [00:30<00:00, 41.10it/s]\n"
     ]
    },
    {
     "name": "stdout",
     "output_type": "stream",
     "text": [
      "Validation Accuracy 84.57% | Validation Loss 0.355804 | Train Loss 0.30855\n",
      "----------------------------------------|EPOCH 4|----------------------------------------\n"
     ]
    },
    {
     "name": "stderr",
     "output_type": "stream",
     "text": [
      "Training loop: 4376it [01:57, 37.12it/s]\n"
     ]
    },
    {
     "name": "stdout",
     "output_type": "stream",
     "text": [
      "Train Loss: 0.27658 | Progress: [4376/4376]\n"
     ]
    },
    {
     "name": "stderr",
     "output_type": "stream",
     "text": [
      "Validation Loop: 100%|██████████| 1233/1233 [00:31<00:00, 39.29it/s]\n"
     ]
    },
    {
     "name": "stdout",
     "output_type": "stream",
     "text": [
      "Validation Accuracy 85.70% | Validation Loss 0.334767 | Train Loss 0.27658\n",
      "----------------------------------------|EPOCH 5|----------------------------------------\n"
     ]
    },
    {
     "name": "stderr",
     "output_type": "stream",
     "text": [
      "Training loop: 4376it [04:53, 14.92it/s]\n"
     ]
    },
    {
     "name": "stdout",
     "output_type": "stream",
     "text": [
      "Train Loss: 0.25101 | Progress: [4376/4376]\n"
     ]
    },
    {
     "name": "stderr",
     "output_type": "stream",
     "text": [
      "Validation Loop: 100%|██████████| 1233/1233 [04:57<00:00,  4.15it/s]\n"
     ]
    },
    {
     "name": "stdout",
     "output_type": "stream",
     "text": [
      "Validation Accuracy 86.76% | Validation Loss 0.308589 | Train Loss 0.25101\n",
      "----------------------------------------|EPOCH 6|----------------------------------------\n"
     ]
    },
    {
     "name": "stderr",
     "output_type": "stream",
     "text": [
      "Training loop: 4376it [12:07,  6.02it/s]\n"
     ]
    },
    {
     "name": "stdout",
     "output_type": "stream",
     "text": [
      "Train Loss: 0.22939 | Progress: [4376/4376]\n"
     ]
    },
    {
     "name": "stderr",
     "output_type": "stream",
     "text": [
      "Validation Loop: 100%|██████████| 1233/1233 [00:31<00:00, 39.57it/s]\n"
     ]
    },
    {
     "name": "stdout",
     "output_type": "stream",
     "text": [
      "Validation Accuracy 88.30% | Validation Loss 0.280704 | Train Loss 0.22939\n",
      "----------------------------------------|EPOCH 7|----------------------------------------\n"
     ]
    },
    {
     "name": "stderr",
     "output_type": "stream",
     "text": [
      "Training loop: 4376it [02:01, 36.05it/s]\n"
     ]
    },
    {
     "name": "stdout",
     "output_type": "stream",
     "text": [
      "Train Loss: 0.21341 | Progress: [4376/4376]\n"
     ]
    },
    {
     "name": "stderr",
     "output_type": "stream",
     "text": [
      "Validation Loop: 100%|██████████| 1233/1233 [00:30<00:00, 40.38it/s]\n"
     ]
    },
    {
     "name": "stdout",
     "output_type": "stream",
     "text": [
      "Validation Accuracy 88.97% | Validation Loss 0.265870 | Train Loss 0.21341\n",
      "----------------------------------------|EPOCH 8|----------------------------------------\n"
     ]
    },
    {
     "name": "stderr",
     "output_type": "stream",
     "text": [
      "Training loop: 4376it [01:58, 36.87it/s]\n"
     ]
    },
    {
     "name": "stdout",
     "output_type": "stream",
     "text": [
      "Train Loss: 0.19833 | Progress: [4376/4376]\n"
     ]
    },
    {
     "name": "stderr",
     "output_type": "stream",
     "text": [
      "Validation Loop: 100%|██████████| 1233/1233 [00:30<00:00, 39.88it/s]\n"
     ]
    },
    {
     "name": "stdout",
     "output_type": "stream",
     "text": [
      "Validation Accuracy 89.48% | Validation Loss 0.250914 | Train Loss 0.19833\n",
      "----------------------------------------|EPOCH 9|----------------------------------------\n"
     ]
    },
    {
     "name": "stderr",
     "output_type": "stream",
     "text": [
      "Training loop: 4376it [01:59, 36.58it/s]\n"
     ]
    },
    {
     "name": "stdout",
     "output_type": "stream",
     "text": [
      "Train Loss: 0.18638 | Progress: [4376/4376]\n"
     ]
    },
    {
     "name": "stderr",
     "output_type": "stream",
     "text": [
      "Validation Loop: 100%|██████████| 1233/1233 [00:31<00:00, 39.57it/s]\n"
     ]
    },
    {
     "name": "stdout",
     "output_type": "stream",
     "text": [
      "Validation Accuracy 89.07% | Validation Loss 0.256030 | Train Loss 0.18638\n",
      "----------------------------------------|EPOCH 10|----------------------------------------\n"
     ]
    },
    {
     "name": "stderr",
     "output_type": "stream",
     "text": [
      "Training loop: 4376it [02:01, 36.00it/s]\n"
     ]
    },
    {
     "name": "stdout",
     "output_type": "stream",
     "text": [
      "Train Loss: 0.17684 | Progress: [4376/4376]\n"
     ]
    },
    {
     "name": "stderr",
     "output_type": "stream",
     "text": [
      "Validation Loop: 100%|██████████| 1233/1233 [00:31<00:00, 38.87it/s]\n"
     ]
    },
    {
     "name": "stdout",
     "output_type": "stream",
     "text": [
      "Validation Accuracy 90.63% | Validation Loss 0.227131 | Train Loss 0.17684\n",
      "----------------------------------------|EPOCH 11|----------------------------------------\n"
     ]
    },
    {
     "name": "stderr",
     "output_type": "stream",
     "text": [
      "Training loop: 4376it [01:56, 37.51it/s]\n"
     ]
    },
    {
     "name": "stdout",
     "output_type": "stream",
     "text": [
      "Train Loss: 0.16793 | Progress: [4376/4376]\n"
     ]
    },
    {
     "name": "stderr",
     "output_type": "stream",
     "text": [
      "Validation Loop: 100%|██████████| 1233/1233 [00:34<00:00, 35.32it/s]\n"
     ]
    },
    {
     "name": "stdout",
     "output_type": "stream",
     "text": [
      "Validation Accuracy 90.86% | Validation Loss 0.225541 | Train Loss 0.16793\n",
      "----------------------------------------|EPOCH 12|----------------------------------------\n"
     ]
    },
    {
     "name": "stderr",
     "output_type": "stream",
     "text": [
      "Training loop: 4376it [01:57, 37.19it/s]\n"
     ]
    },
    {
     "name": "stdout",
     "output_type": "stream",
     "text": [
      "Train Loss: 0.15923 | Progress: [4376/4376]\n"
     ]
    },
    {
     "name": "stderr",
     "output_type": "stream",
     "text": [
      "Validation Loop: 100%|██████████| 1233/1233 [00:31<00:00, 39.24it/s]\n"
     ]
    },
    {
     "name": "stdout",
     "output_type": "stream",
     "text": [
      "Validation Accuracy 90.60% | Validation Loss 0.225416 | Train Loss 0.15923\n",
      "----------------------------------------|EPOCH 13|----------------------------------------\n"
     ]
    },
    {
     "name": "stderr",
     "output_type": "stream",
     "text": [
      "Training loop: 4376it [01:58, 36.90it/s]\n"
     ]
    },
    {
     "name": "stdout",
     "output_type": "stream",
     "text": [
      "Train Loss: 0.15366 | Progress: [4376/4376]\n"
     ]
    },
    {
     "name": "stderr",
     "output_type": "stream",
     "text": [
      "Validation Loop: 100%|██████████| 1233/1233 [00:31<00:00, 38.95it/s]\n"
     ]
    },
    {
     "name": "stdout",
     "output_type": "stream",
     "text": [
      "Validation Accuracy 90.53% | Validation Loss 0.224838 | Train Loss 0.15366\n",
      "----------------------------------------|EPOCH 14|----------------------------------------\n"
     ]
    },
    {
     "name": "stderr",
     "output_type": "stream",
     "text": [
      "Training loop: 4376it [01:58, 36.78it/s]\n"
     ]
    },
    {
     "name": "stdout",
     "output_type": "stream",
     "text": [
      "Train Loss: 0.14595 | Progress: [4376/4376]\n"
     ]
    },
    {
     "name": "stderr",
     "output_type": "stream",
     "text": [
      "Validation Loop: 100%|██████████| 1233/1233 [00:30<00:00, 40.40it/s]\n"
     ]
    },
    {
     "name": "stdout",
     "output_type": "stream",
     "text": [
      "Validation Accuracy 90.42% | Validation Loss 0.227186 | Train Loss 0.14595\n",
      "----------------------------------------|EPOCH 15|----------------------------------------\n"
     ]
    },
    {
     "name": "stderr",
     "output_type": "stream",
     "text": [
      "Training loop: 4376it [02:00, 36.46it/s]\n"
     ]
    },
    {
     "name": "stdout",
     "output_type": "stream",
     "text": [
      "Train Loss: 0.14019 | Progress: [4376/4376]\n"
     ]
    },
    {
     "name": "stderr",
     "output_type": "stream",
     "text": [
      "Validation Loop: 100%|██████████| 1233/1233 [00:30<00:00, 41.01it/s]"
     ]
    },
    {
     "name": "stdout",
     "output_type": "stream",
     "text": [
      "Validation Accuracy 91.33% | Validation Loss 0.212663 | Train Loss 0.14019\n"
     ]
    },
    {
     "name": "stderr",
     "output_type": "stream",
     "text": [
      "\n"
     ]
    }
   ],
   "source": [
    "history = train_loop(model_0, epochs= 15,\n",
    "           train_loader= train_img_loader,\n",
    "           val_loader=val_img_loader)\n",
    "torch.save(model_0, 'pytorch models/pretrainedCNN_15_e.pth')"
   ]
  },
  {
   "cell_type": "code",
   "execution_count": 5,
   "metadata": {},
   "outputs": [
    {
     "data": {
      "image/png": "[encoded data removed]",
      "text/plain": [
       "<Figure size 1500x500 with 2 Axes>"
      ]
     },
     "metadata": {},
     "output_type": "display_data"
    }
   ],
   "source": [
    "train_loss = []\n",
    "val_accuracy = []\n",
    "val_loss = []\n",
    "\n",
    "for key, value, in history.items():\n",
    "    if key.startswith(\"train_loss\"):\n",
    "        train_loss.append(value)\n",
    "    if key.startswith(\"val_loss\"):\n",
    "        val_loss.append(value/len(val_img_loader))\n",
    "    if key.startswith(\"val_correct\"):\n",
    "        val_accuracy.append(value/3000)\n",
    "\n",
    "epochs = list(range(1,len(train_loss)+1))\n",
    "\n",
    "import matplotlib.pyplot as plt\n",
    "\n",
    "# Plotting accuracy\n",
    "plt.figure(figsize=(15,5))\n",
    "plt.subplot(1, 2, 1)\n",
    "plt.plot(epochs, val_accuracy, label='Val Set')\n",
    "plt.legend(loc=\"best\")\n",
    "plt.xlabel('Epochs')\n",
    "plt.ylabel('Accuracy')\n",
    "plt.title('Model Accuracy')\n",
    "plt.xticks(ticks=range(1, len(epochs) + 1), \n",
    "           labels=[str(int(round(x))) for x in range(1, len(epochs) + 1)])\n",
    "\n",
    "\n",
    "# Plotting loss\n",
    "plt.subplot(1, 2, 2)\n",
    "plt.plot(epochs, train_loss, label='Train Set')\n",
    "plt.plot(epochs, val_loss, label='Val Set')\n",
    "plt.legend(loc=\"best\")\n",
    "plt.xlabel('Epochs')\n",
    "plt.ylabel('Loss')\n",
    "plt.title('Model Loss')\n",
    "plt.xticks(ticks=range(1, len(epochs) + 1), \n",
    "           labels=[str(int(round(x))) for x in range(1, len(epochs) + 1)])\n",
    "\n",
    "plt.tight_layout()\n",
    "plt.show()"
   ]
  },
  {
   "cell_type": "markdown",
   "metadata": {},
   "source": [
    "## Classification report"
   ]
  },
  {
   "cell_type": "code",
   "execution_count": 6,
   "metadata": {},
   "outputs": [
    {
     "name": "stderr",
     "output_type": "stream",
     "text": [
      "100%|██████████| 1233/1233 [00:31<00:00, 39.47it/s]\n"
     ]
    },
    {
     "data": {
      "image/png": "[encoded data removed]",
      "text/plain": [
       "<Figure size 640x480 with 1 Axes>"
      ]
     },
     "metadata": {},
     "output_type": "display_data"
    }
   ],
   "source": [
    "from sklearn.metrics import accuracy_score, roc_auc_score, classification_report, confusion_matrix, roc_curve\n",
    "import matplotlib.pyplot as plt\n",
    "\n",
    "model_0.eval()\n",
    "y_true = []\n",
    "p_hats = []\n",
    "\n",
    "with torch.no_grad():\n",
    "    for x,y in tqdm(val_img_loader):\n",
    "        p_hat, _ = model_0(x)\n",
    "        p_hats.append(p_hat.to(\"cpu\"))\n",
    "        y_true.append(y.to(\"cpu\"))\n",
    "\n",
    "y_true = torch.cat(y_true).numpy()\n",
    "p_hats = torch.cat(p_hats).numpy()\n",
    "plt.hist(p_hats)\n",
    "plt.title(\"Distribution of predicted values\")\n",
    "plt.show()"
   ]
  },
  {
   "cell_type": "code",
   "execution_count": 7,
   "metadata": {},
   "outputs": [
    {
     "name": "stdout",
     "output_type": "stream",
     "text": [
      "Validation accuracy: 0.9132596124581516\n",
      "Area under the curve of validation set: 0.9768696693097512\n",
      "Confusion matrix on validation set with threshold 0.5\n",
      " [[19024   763]\n",
      " [ 2657 16984]]\n",
      "Classification Report on validation set, t = 0.5\n",
      "               precision    recall  f1-score   support\n",
      "\n",
      "         0.0       0.88      0.96      0.92     19787\n",
      "         1.0       0.96      0.86      0.91     19641\n",
      "\n",
      "    accuracy                           0.91     39428\n",
      "   macro avg       0.92      0.91      0.91     39428\n",
      "weighted avg       0.92      0.91      0.91     39428\n",
      "\n"
     ]
    }
   ],
   "source": [
    "print(f\"Validation accuracy: {accuracy_score(y_true, p_hats > 0.5)}\")\n",
    "\n",
    "print(f\"Area under the curve of validation set: {roc_auc_score(y_true, p_hats)}\")\n",
    "\n",
    "print(\"Confusion matrix on validation set with threshold 0.5\\n\",confusion_matrix(y_true,  p_hats > 0.5))\n",
    "\n",
    "print(\"Classification Report on validation set, t = 0.5\\n\",classification_report(y_true, p_hats > 0.5))"
   ]
  },
  {
   "cell_type": "code",
   "execution_count": 8,
   "metadata": {},
   "outputs": [
    {
     "data": {
      "image/png": "[encoded data removed]",
      "text/plain": [
       "<Figure size 640x480 with 1 Axes>"
      ]
     },
     "metadata": {},
     "output_type": "display_data"
    }
   ],
   "source": [
    "fpr, tpr, t = roc_curve(y_true, p_hats)\n",
    "\n",
    "plt.plot(fpr, tpr)\n",
    "plt.plot([0,1],[0,1], \"--\")\n",
    "plt.title(\"ROC Curve\")\n",
    "plt.ylabel(\"True positive rate\")\n",
    "plt.xlabel(\"False positive rate\")\n",
    "plt.show()"
   ]
  }
 ],
 "metadata": {
  "kernelspec": {
   "display_name": "pt",
   "language": "python",
   "name": "python3"
  },
  "language_info": {
   "codemirror_mode": {
    "name": "ipython",
    "version": 3
   },
   "file_extension": ".py",
   "mimetype": "text/x-python",
   "name": "python",
   "nbconvert_exporter": "python",
   "pygments_lexer": "ipython3",
   "version": "3.11.9"
  }
 },
 "nbformat": 4,
 "nbformat_minor": 2
}
