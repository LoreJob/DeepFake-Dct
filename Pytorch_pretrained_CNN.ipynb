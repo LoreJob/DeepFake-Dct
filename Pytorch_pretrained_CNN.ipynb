{
 "cells": [
  {
   "cell_type": "markdown",
   "metadata": {},
   "source": [
    "# Training the CNN\n",
    "\n",
    "I will train a cnn on the images of the folder Dataset, this resulting CNN will be applied to each frame of a video and will return an embedding for each frame. This will be fed into a LSTM to classify the video as either real or fake\n",
    "\n"
   ]
  },
  {
   "cell_type": "code",
   "execution_count": 1,
   "metadata": {},
   "outputs": [],
   "source": [
    "import os\n",
    "from torch.utils.data import Dataset, DataLoader\n",
    "import torch\n",
    "import numpy as np\n",
    "from tqdm import tqdm\n",
    "import torch.nn as nn\n",
    "\n",
    "IMG_DATA_BATCH_SIZE = 32\n",
    "DEVICE = \"cuda\"\n",
    "CLASS_THRESHOLD = 0.5\n",
    "LR = 0.0001"
   ]
  },
  {
   "cell_type": "markdown",
   "metadata": {},
   "source": [
    "## Image preprocessing\n",
    "\n",
    "the images in the Dataset folder are 256x256 pixels, but the videos we are classifying with the LSTM will be preprocessed to be 64x64. For this reason, the CNN as well will be trained on images 64x64. The following code will resize the dataset and prepare the dataloader object to train the CNN\n"
   ]
  },
  {
   "cell_type": "code",
   "execution_count": 16,
   "metadata": {},
   "outputs": [
    {
     "name": "stderr",
     "output_type": "stream",
     "text": [
      "Processing Train real: 100%|██████████| 70001/70001 [03:19<00:00, 351.50it/s]\n",
      "Processing Train fake: 100%|██████████| 70001/70001 [03:22<00:00, 344.97it/s]\n",
      "Processing Validation real: 100%|██████████| 19787/19787 [00:54<00:00, 365.66it/s]\n",
      "Processing Validation fake: 100%|██████████| 19641/19641 [00:53<00:00, 366.82it/s]\n",
      "Processing Test real: 100%|██████████| 5413/5413 [00:14<00:00, 366.39it/s]\n",
      "Processing Test fake: 100%|██████████| 5492/5492 [00:15<00:00, 355.21it/s]\n"
     ]
    }
   ],
   "source": [
    "import torch\n",
    "from torchvision.io import read_image\n",
    "from torchvision.transforms.functional import resize\n",
    "import os\n",
    "from tqdm import tqdm\n",
    "\n",
    "def resize_image(img_path):\n",
    "    img = read_image(img_path)\n",
    "    return resize(img, size = [64,64])\n",
    "\n",
    "# testing the function\n",
    "# import matplotlib.pyplot as plt\n",
    "# before = read_image(\"Dataset/Validation/fake/fake_0.jpg\")\n",
    "# after = resize_image(\"Dataset/Validation/fake/fake_0.jpg\")\n",
    "# fig, axes = plt.subplots(nrows= 1, ncols= 2)\n",
    "# axes = axes.flatten()\n",
    "# axes[0].imshow(before.permute(1,2,0))\n",
    "# axes[1].imshow(after.permute(1,2,0))\n",
    "\n",
    "def resize_dataset(output_dir):\n",
    "    for subset in ['Train', 'Validation', 'Test']:\n",
    "        for class_name in ['real', 'fake']:\n",
    "            input_dir = os.path.join(\"Dataset\", subset, class_name)\n",
    "            new_output_dir = os.path.join(output_dir, subset, class_name)\n",
    "            os.makedirs(new_output_dir, exist_ok=True)\n",
    "            \n",
    "            img_files = [f for f in os.listdir(input_dir) if f.endswith('.jpg')]\n",
    "            \n",
    "            for img_file in tqdm(img_files, desc=f\"Processing {subset} {class_name}\"):\n",
    "                video_path = os.path.join(input_dir, img_file)\n",
    "                processed_image = resize_image(video_path)\n",
    "                \n",
    "                output_path = os.path.join(new_output_dir, img_file.replace('.jpg', '.pth'))\n",
    "                torch.save(processed_image, output_path)\n",
    "\n",
    "# resize_dataset(\"..\\\\resized_images\")"
   ]
  },
  {
   "cell_type": "markdown",
   "metadata": {},
   "source": [
    "## Datasets and Data loaders"
   ]
  },
  {
   "cell_type": "code",
   "execution_count": 1,
   "metadata": {},
   "outputs": [],
   "source": [
    "class ImageDataset(Dataset):\n",
    "\n",
    "    def __init__(self, processed_dir = \"../resized_images\", subset = \"Train\", batch_size = IMG_DATA_BATCH_SIZE, device = DEVICE):\n",
    "        self.directory = processed_dir+\"/\"+subset\n",
    "        self.batch_size = batch_size\n",
    "        self.device = device\n",
    "        self.images = self._get_img_paths()\n",
    "        self._shuffle_data()\n",
    "        self.length = int(len(self.images)/self.batch_size) + 1\n",
    "    \n",
    "    def _get_img_paths(self):\n",
    "        imgs = []\n",
    "        for img_path in os.listdir(self.directory + \"/Fake\"):\n",
    "            imgs.append((self.directory + \"/Fake/\"+img_path, 1))\n",
    "        for img_path in os.listdir(self.directory + \"/Real\"):\n",
    "            imgs.append((self.directory + \"/Real/\"+img_path, 0))\n",
    "        return imgs\n",
    "    \n",
    "    def _shuffle_data(self):\n",
    "        np.random.shuffle(self.images)\n",
    "    \n",
    "    def __getitem__(self,index):\n",
    "        images = []\n",
    "        labels = []\n",
    "        for img, label in self.images[index*self.batch_size:(index+1)*self.batch_size]:\n",
    "            labels.append(label)\n",
    "            images.append(torch.load(img)/256)\n",
    "            x = torch.stack(images).to(self.device)\n",
    "            y = torch.tensor(labels).to(self.device).to(torch.float32)\n",
    "        return x, y\n",
    "    \n",
    "    def __len__(self):\n",
    "        return self.length\n",
    "    \n",
    "\n",
    "val_img_dataset = ImageDataset(subset=\"Validation\", batch_size= IMG_DATA_BATCH_SIZE, device = DEVICE)\n",
    "train_img_dataset = ImageDataset(subset=\"Train\", batch_size= IMG_DATA_BATCH_SIZE, device = DEVICE)\n",
    "\n",
    "val_img_loader = DataLoader(val_img_dataset, batch_size= None, collate_fn= lambda x: x)\n",
    "train_img_loader = DataLoader(train_img_dataset, batch_size= None, collate_fn= lambda x: x)"
   ]
  },
  {
   "cell_type": "markdown",
   "metadata": {},
   "source": [
    "## Training function"
   ]
  },
  {
   "cell_type": "code",
   "execution_count": 2,
   "metadata": {},
   "outputs": [],
   "source": [
    "def train_loop(model, epochs, train_loader, val_loader, class_threshold = CLASS_THRESHOLD):\n",
    "\n",
    "    history = dict()\n",
    "\n",
    "    for e in range(1,epochs+1):\n",
    "\n",
    "        model.train()\n",
    "        print(\"-\"*40+f\"|EPOCH {e}|\"+\"-\"*40)\n",
    "        losses = []\n",
    "        for batch, (x,y) in tqdm(enumerate(train_loader),desc = \"Training loop\"):\n",
    "            pred_proba, _ = model(x)\n",
    "            loss_value = model.loss_function(pred_proba,y)\n",
    "            losses.append(loss_value.item())\n",
    "            loss_value.backward()\n",
    "            model.optimizer_function.step()\n",
    "            model.optimizer_function.zero_grad()\n",
    "        print(f\"Train Loss: {np.mean(losses):.5f} | Progress: [{batch+1}/{len(train_loader)}]\")\n",
    "        history[f\"train_loss_epoch_{e}\"] = losses\n",
    "        \n",
    "        model.eval()\n",
    "        loss, correct, val_size = 0,0,0\n",
    "        with torch.no_grad():\n",
    "             for x,y in tqdm(val_loader, desc= \"Validation Loop\"):\n",
    "                  val_size += y.shape[0]\n",
    "                  pred_proba, _ = model(x)\n",
    "                  loss += model.loss_function(pred_proba,y)\n",
    "                  pred_class = (pred_proba > class_threshold).type(torch.float)\n",
    "                  correct += (pred_class == y).type(torch.float).sum().item()\n",
    "        print(f\"Validation Accuracy {(correct/val_size):.2%} | Validation Loss {(loss/len(val_loader)):6f} | Train Loss {np.mean(losses):.5f}\")\n",
    "        history[f\"val_loss_epoch_{e}\"] = loss.item()\n",
    "        history[f\"val_correct_epoch_{e}\"] = correct\n",
    "        history[f\"val_size_epoch_{e}\"] = val_size\n",
    "\n",
    "        train_loader.dataset._shuffle_data()\n",
    "        val_loader.dataset._shuffle_data()\n",
    "\n",
    "    for key, value in history.items():\n",
    "        if isinstance(value, list):\n",
    "            history[key] = np.mean(value).item()\n",
    "    \n",
    "    return history"
   ]
  },
  {
   "cell_type": "markdown",
   "metadata": {},
   "source": [
    "## Model class"
   ]
  },
  {
   "cell_type": "code",
   "execution_count": 2,
   "metadata": {},
   "outputs": [
    {
     "name": "stdout",
     "output_type": "stream",
     "text": [
      "number of parameter:  466465\n",
      "sequence.0.weight: torch.float32, params: 432\n",
      "sequence.0.bias: torch.float32, params: 16\n",
      "sequence.4.weight: torch.float32, params: 4608\n",
      "sequence.4.bias: torch.float32, params: 32\n",
      "sequence.8.weight: torch.float32, params: 51200\n",
      "sequence.8.bias: torch.float32, params: 64\n",
      "sequence.13.weight: torch.float32, params: 409600\n",
      "sequence.13.bias: torch.float32, params: 256\n",
      "final_layer.0.weight: torch.float32, params: 256\n",
      "final_layer.0.bias: torch.float32, params: 1\n"
     ]
    }
   ],
   "source": [
    "def count_parameters(model):\n",
    "    return sum(p.numel() for p in model.parameters() if p.requires_grad)\n",
    "\n",
    "class DF_img_detector(nn.Module):\n",
    "\n",
    "    def __init__(self, sequence, final_layer,\n",
    "                 loss_function,\n",
    "                 optimizer_constructor,\n",
    "                 optimizer_kwargs = {\"lr\": LR}):\n",
    "        super(DF_img_detector, self).__init__()\n",
    "        self.sequence = sequence\n",
    "        self.final_layer = final_layer\n",
    "        self.loss_function = loss_function\n",
    "        self.optimizer_function = optimizer_constructor(self.parameters(),**optimizer_kwargs)\n",
    "        self.to(DEVICE)\n",
    "    \n",
    "    def forward(self, x):\n",
    "        embedding = self.sequence(x)\n",
    "        p_hat = self.final_layer(embedding)\n",
    "        return p_hat.flatten(), embedding\n",
    "    \n",
    "sequence = nn.Sequential(\n",
    "    nn.Conv2d(in_channels=3, out_channels= 16, kernel_size= 3, padding=\"valid\"),\n",
    "    nn.ReLU(),\n",
    "    nn.Dropout(0.1),\n",
    "    nn.MaxPool2d(2),\n",
    "    nn.Conv2d(in_channels=16, out_channels= 32, kernel_size= 3, padding=\"valid\"),\n",
    "    nn.ReLU(),\n",
    "    nn.Dropout(0.1),\n",
    "    nn.MaxPool2d(2),\n",
    "    nn.Conv2d(in_channels=32, out_channels= 64, kernel_size= 5, padding=\"valid\"),\n",
    "    nn.ReLU(),\n",
    "    nn.Dropout(0.4),\n",
    "    nn.MaxPool2d(2),\n",
    "    nn.Flatten(),\n",
    "    nn.Linear(in_features=1600, out_features=256),\n",
    "    nn.ReLU(),\n",
    "    nn.Dropout(0.1)\n",
    ")\n",
    "\n",
    "final_layer = nn.Sequential(\n",
    "    nn.Linear(256,1),\n",
    "    nn.Sigmoid()\n",
    ")\n",
    "\n",
    "model_0 = DF_img_detector(sequence= sequence, final_layer= final_layer,\n",
    "                          loss_function= nn.BCELoss(),\n",
    "                          optimizer_constructor= torch.optim.Adam)\n",
    "\n",
    "print(\"number of parameter: \",count_parameters(model_0))\n",
    "for name, param in model_0.named_parameters():\n",
    "    print(f'{name}: {param.dtype}, params: {param.numel()}')"
   ]
  },
  {
   "cell_type": "markdown",
   "metadata": {},
   "source": [
    "## Training the Model"
   ]
  },
  {
   "cell_type": "code",
   "execution_count": 4,
   "metadata": {},
   "outputs": [
    {
     "name": "stdout",
     "output_type": "stream",
     "text": [
      "----------------------------------------|EPOCH 1|----------------------------------------\n"
     ]
    },
    {
     "name": "stderr",
     "output_type": "stream",
     "text": [
      "Training loop: 4376it [01:57, 37.10it/s]\n"
     ]
    },
    {
     "name": "stdout",
     "output_type": "stream",
     "text": [
      "Train Loss: 0.46408 | Progress: [4376/4376]\n"
     ]
    },
    {
     "name": "stderr",
     "output_type": "stream",
     "text": [
      "Validation Loop: 100%|██████████| 1233/1233 [00:31<00:00, 39.56it/s]\n"
     ]
    },
    {
     "name": "stdout",
     "output_type": "stream",
     "text": [
      "Validation Accuracy 77.91% | Validation Loss 0.479638 | Train Loss 0.46408\n",
      "----------------------------------------|EPOCH 2|----------------------------------------\n"
     ]
    },
    {
     "name": "stderr",
     "output_type": "stream",
     "text": [
      "Training loop: 4376it [01:57, 37.31it/s]\n"
     ]
    },
    {
     "name": "stdout",
     "output_type": "stream",
     "text": [
      "Train Loss: 0.36096 | Progress: [4376/4376]\n"
     ]
    },
    {
     "name": "stderr",
     "output_type": "stream",
     "text": [
      "Validation Loop: 100%|██████████| 1233/1233 [00:30<00:00, 39.86it/s]\n"
     ]
    },
    {
     "name": "stdout",
     "output_type": "stream",
     "text": [
      "Validation Accuracy 82.78% | Validation Loss 0.402225 | Train Loss 0.36096\n",
      "----------------------------------------|EPOCH 3|----------------------------------------\n"
     ]
    },
    {
     "name": "stderr",
     "output_type": "stream",
     "text": [
      "Training loop: 4376it [01:59, 36.77it/s]\n"
     ]
    },
    {
     "name": "stdout",
     "output_type": "stream",
     "text": [
      "Train Loss: 0.30855 | Progress: [4376/4376]\n"
     ]
    },
    {
     "name": "stderr",
     "output_type": "stream",
     "text": [
      "Validation Loop: 100%|██████████| 1233/1233 [00:30<00:00, 41.10it/s]\n"
     ]
    },
    {
     "name": "stdout",
     "output_type": "stream",
     "text": [
      "Validation Accuracy 84.57% | Validation Loss 0.355804 | Train Loss 0.30855\n",
      "----------------------------------------|EPOCH 4|----------------------------------------\n"
     ]
    },
    {
     "name": "stderr",
     "output_type": "stream",
     "text": [
      "Training loop: 4376it [01:57, 37.12it/s]\n"
     ]
    },
    {
     "name": "stdout",
     "output_type": "stream",
     "text": [
      "Train Loss: 0.27658 | Progress: [4376/4376]\n"
     ]
    },
    {
     "name": "stderr",
     "output_type": "stream",
     "text": [
      "Validation Loop: 100%|██████████| 1233/1233 [00:31<00:00, 39.29it/s]\n"
     ]
    },
    {
     "name": "stdout",
     "output_type": "stream",
     "text": [
      "Validation Accuracy 85.70% | Validation Loss 0.334767 | Train Loss 0.27658\n",
      "----------------------------------------|EPOCH 5|----------------------------------------\n"
     ]
    },
    {
     "name": "stderr",
     "output_type": "stream",
     "text": [
      "Training loop: 4376it [04:53, 14.92it/s]\n"
     ]
    },
    {
     "name": "stdout",
     "output_type": "stream",
     "text": [
      "Train Loss: 0.25101 | Progress: [4376/4376]\n"
     ]
    },
    {
     "name": "stderr",
     "output_type": "stream",
     "text": [
      "Validation Loop: 100%|██████████| 1233/1233 [04:57<00:00,  4.15it/s]\n"
     ]
    },
    {
     "name": "stdout",
     "output_type": "stream",
     "text": [
      "Validation Accuracy 86.76% | Validation Loss 0.308589 | Train Loss 0.25101\n",
      "----------------------------------------|EPOCH 6|----------------------------------------\n"
     ]
    },
    {
     "name": "stderr",
     "output_type": "stream",
     "text": [
      "Training loop: 4376it [12:07,  6.02it/s]\n"
     ]
    },
    {
     "name": "stdout",
     "output_type": "stream",
     "text": [
      "Train Loss: 0.22939 | Progress: [4376/4376]\n"
     ]
    },
    {
     "name": "stderr",
     "output_type": "stream",
     "text": [
      "Validation Loop: 100%|██████████| 1233/1233 [00:31<00:00, 39.57it/s]\n"
     ]
    },
    {
     "name": "stdout",
     "output_type": "stream",
     "text": [
      "Validation Accuracy 88.30% | Validation Loss 0.280704 | Train Loss 0.22939\n",
      "----------------------------------------|EPOCH 7|----------------------------------------\n"
     ]
    },
    {
     "name": "stderr",
     "output_type": "stream",
     "text": [
      "Training loop: 4376it [02:01, 36.05it/s]\n"
     ]
    },
    {
     "name": "stdout",
     "output_type": "stream",
     "text": [
      "Train Loss: 0.21341 | Progress: [4376/4376]\n"
     ]
    },
    {
     "name": "stderr",
     "output_type": "stream",
     "text": [
      "Validation Loop: 100%|██████████| 1233/1233 [00:30<00:00, 40.38it/s]\n"
     ]
    },
    {
     "name": "stdout",
     "output_type": "stream",
     "text": [
      "Validation Accuracy 88.97% | Validation Loss 0.265870 | Train Loss 0.21341\n",
      "----------------------------------------|EPOCH 8|----------------------------------------\n"
     ]
    },
    {
     "name": "stderr",
     "output_type": "stream",
     "text": [
      "Training loop: 4376it [01:58, 36.87it/s]\n"
     ]
    },
    {
     "name": "stdout",
     "output_type": "stream",
     "text": [
      "Train Loss: 0.19833 | Progress: [4376/4376]\n"
     ]
    },
    {
     "name": "stderr",
     "output_type": "stream",
     "text": [
      "Validation Loop: 100%|██████████| 1233/1233 [00:30<00:00, 39.88it/s]\n"
     ]
    },
    {
     "name": "stdout",
     "output_type": "stream",
     "text": [
      "Validation Accuracy 89.48% | Validation Loss 0.250914 | Train Loss 0.19833\n",
      "----------------------------------------|EPOCH 9|----------------------------------------\n"
     ]
    },
    {
     "name": "stderr",
     "output_type": "stream",
     "text": [
      "Training loop: 4376it [01:59, 36.58it/s]\n"
     ]
    },
    {
     "name": "stdout",
     "output_type": "stream",
     "text": [
      "Train Loss: 0.18638 | Progress: [4376/4376]\n"
     ]
    },
    {
     "name": "stderr",
     "output_type": "stream",
     "text": [
      "Validation Loop: 100%|██████████| 1233/1233 [00:31<00:00, 39.57it/s]\n"
     ]
    },
    {
     "name": "stdout",
     "output_type": "stream",
     "text": [
      "Validation Accuracy 89.07% | Validation Loss 0.256030 | Train Loss 0.18638\n",
      "----------------------------------------|EPOCH 10|----------------------------------------\n"
     ]
    },
    {
     "name": "stderr",
     "output_type": "stream",
     "text": [
      "Training loop: 4376it [02:01, 36.00it/s]\n"
     ]
    },
    {
     "name": "stdout",
     "output_type": "stream",
     "text": [
      "Train Loss: 0.17684 | Progress: [4376/4376]\n"
     ]
    },
    {
     "name": "stderr",
     "output_type": "stream",
     "text": [
      "Validation Loop: 100%|██████████| 1233/1233 [00:31<00:00, 38.87it/s]\n"
     ]
    },
    {
     "name": "stdout",
     "output_type": "stream",
     "text": [
      "Validation Accuracy 90.63% | Validation Loss 0.227131 | Train Loss 0.17684\n",
      "----------------------------------------|EPOCH 11|----------------------------------------\n"
     ]
    },
    {
     "name": "stderr",
     "output_type": "stream",
     "text": [
      "Training loop: 4376it [01:56, 37.51it/s]\n"
     ]
    },
    {
     "name": "stdout",
     "output_type": "stream",
     "text": [
      "Train Loss: 0.16793 | Progress: [4376/4376]\n"
     ]
    },
    {
     "name": "stderr",
     "output_type": "stream",
     "text": [
      "Validation Loop: 100%|██████████| 1233/1233 [00:34<00:00, 35.32it/s]\n"
     ]
    },
    {
     "name": "stdout",
     "output_type": "stream",
     "text": [
      "Validation Accuracy 90.86% | Validation Loss 0.225541 | Train Loss 0.16793\n",
      "----------------------------------------|EPOCH 12|----------------------------------------\n"
     ]
    },
    {
     "name": "stderr",
     "output_type": "stream",
     "text": [
      "Training loop: 4376it [01:57, 37.19it/s]\n"
     ]
    },
    {
     "name": "stdout",
     "output_type": "stream",
     "text": [
      "Train Loss: 0.15923 | Progress: [4376/4376]\n"
     ]
    },
    {
     "name": "stderr",
     "output_type": "stream",
     "text": [
      "Validation Loop: 100%|██████████| 1233/1233 [00:31<00:00, 39.24it/s]\n"
     ]
    },
    {
     "name": "stdout",
     "output_type": "stream",
     "text": [
      "Validation Accuracy 90.60% | Validation Loss 0.225416 | Train Loss 0.15923\n",
      "----------------------------------------|EPOCH 13|----------------------------------------\n"
     ]
    },
    {
     "name": "stderr",
     "output_type": "stream",
     "text": [
      "Training loop: 4376it [01:58, 36.90it/s]\n"
     ]
    },
    {
     "name": "stdout",
     "output_type": "stream",
     "text": [
      "Train Loss: 0.15366 | Progress: [4376/4376]\n"
     ]
    },
    {
     "name": "stderr",
     "output_type": "stream",
     "text": [
      "Validation Loop: 100%|██████████| 1233/1233 [00:31<00:00, 38.95it/s]\n"
     ]
    },
    {
     "name": "stdout",
     "output_type": "stream",
     "text": [
      "Validation Accuracy 90.53% | Validation Loss 0.224838 | Train Loss 0.15366\n",
      "----------------------------------------|EPOCH 14|----------------------------------------\n"
     ]
    },
    {
     "name": "stderr",
     "output_type": "stream",
     "text": [
      "Training loop: 4376it [01:58, 36.78it/s]\n"
     ]
    },
    {
     "name": "stdout",
     "output_type": "stream",
     "text": [
      "Train Loss: 0.14595 | Progress: [4376/4376]\n"
     ]
    },
    {
     "name": "stderr",
     "output_type": "stream",
     "text": [
      "Validation Loop: 100%|██████████| 1233/1233 [00:30<00:00, 40.40it/s]\n"
     ]
    },
    {
     "name": "stdout",
     "output_type": "stream",
     "text": [
      "Validation Accuracy 90.42% | Validation Loss 0.227186 | Train Loss 0.14595\n",
      "----------------------------------------|EPOCH 15|----------------------------------------\n"
     ]
    },
    {
     "name": "stderr",
     "output_type": "stream",
     "text": [
      "Training loop: 4376it [02:00, 36.46it/s]\n"
     ]
    },
    {
     "name": "stdout",
     "output_type": "stream",
     "text": [
      "Train Loss: 0.14019 | Progress: [4376/4376]\n"
     ]
    },
    {
     "name": "stderr",
     "output_type": "stream",
     "text": [
      "Validation Loop: 100%|██████████| 1233/1233 [00:30<00:00, 41.01it/s]"
     ]
    },
    {
     "name": "stdout",
     "output_type": "stream",
     "text": [
      "Validation Accuracy 91.33% | Validation Loss 0.212663 | Train Loss 0.14019\n"
     ]
    },
    {
     "name": "stderr",
     "output_type": "stream",
     "text": [
      "\n"
     ]
    }
   ],
   "source": [
    "history = train_loop(model_0, epochs= 15,\n",
    "           train_loader= train_img_loader,\n",
    "           val_loader=val_img_loader)\n",
    "torch.save(model_0, 'pytorch models/pretrainedCNN_15_e.pth')"
   ]
  },
  {
   "cell_type": "code",
   "execution_count": 5,
   "metadata": {},
   "outputs": [
    {
     "data": {
      "image/png": "[encoded data removed]",
      "text/plain": [
       "<Figure size 1500x500 with 2 Axes>"
      ]
     },
     "metadata": {},
     "output_type": "display_data"
    }
   ],
   "source": [
    "train_loss = []\n",
    "val_accuracy = []\n",
    "val_loss = []\n",
    "\n",
    "for key, value, in history.items():\n",
    "    if key.startswith(\"train_loss\"):\n",
    "        train_loss.append(value)\n",
    "    if key.startswith(\"val_loss\"):\n",
    "        val_loss.append(value/len(val_img_loader))\n",
    "    if key.startswith(\"val_correct\"):\n",
    "        val_accuracy.append(value/3000)\n",
    "\n",
    "epochs = list(range(1,len(train_loss)+1))\n",
    "\n",
    "import matplotlib.pyplot as plt\n",
    "\n",
    "# Plotting accuracy\n",
    "plt.figure(figsize=(15,5))\n",
    "plt.subplot(1, 2, 1)\n",
    "plt.plot(epochs, val_accuracy, label='Val Set')\n",
    "plt.legend(loc=\"best\")\n",
    "plt.xlabel('Epochs')\n",
    "plt.ylabel('Accuracy')\n",
    "plt.title('Model Accuracy')\n",
    "plt.xticks(ticks=range(1, len(epochs) + 1), \n",
    "           labels=[str(int(round(x))) for x in range(1, len(epochs) + 1)])\n",
    "\n",
    "\n",
    "# Plotting loss\n",
    "plt.subplot(1, 2, 2)\n",
    "plt.plot(epochs, train_loss, label='Train Set')\n",
    "plt.plot(epochs, val_loss, label='Val Set')\n",
    "plt.legend(loc=\"best\")\n",
    "plt.xlabel('Epochs')\n",
    "plt.ylabel('Loss')\n",
    "plt.title('Model Loss')\n",
    "plt.xticks(ticks=range(1, len(epochs) + 1), \n",
    "           labels=[str(int(round(x))) for x in range(1, len(epochs) + 1)])\n",
    "\n",
    "plt.tight_layout()\n",
    "plt.show()"
   ]
  },
  {
   "cell_type": "markdown",
   "metadata": {},
   "source": [
    "## Classification report"
   ]
  },
  {
   "cell_type": "code",
   "execution_count": 6,
   "metadata": {},
   "outputs": [
    {
     "name": "stderr",
     "output_type": "stream",
     "text": [
      "100%|██████████| 1233/1233 [00:31<00:00, 39.47it/s]\n"
     ]
    },
    {
     "data": {
      "image/png": "[encoded data removed]",
      "text/plain": [
       "<Figure size 640x480 with 1 Axes>"
      ]
     },
     "metadata": {},
     "output_type": "display_data"
    }
   ],
   "source": [
    "from sklearn.metrics import accuracy_score, roc_auc_score, classification_report, confusion_matrix, roc_curve\n",
    "import matplotlib.pyplot as plt\n",
    "\n",
    "model_0.eval()\n",
    "y_true = []\n",
    "p_hats = []\n",
    "\n",
    "with torch.no_grad():\n",
    "    for x,y in tqdm(val_img_loader):\n",
    "        p_hat, _ = model_0(x)\n",
    "        p_hats.append(p_hat.to(\"cpu\"))\n",
    "        y_true.append(y.to(\"cpu\"))\n",
    "\n",
    "y_true = torch.cat(y_true).numpy()\n",
    "p_hats = torch.cat(p_hats).numpy()\n",
    "plt.hist(p_hats)\n",
    "plt.title(\"Distribution of predicted values\")\n",
    "plt.show()"
   ]
  },
  {
   "cell_type": "code",
   "execution_count": 7,
   "metadata": {},
   "outputs": [
    {
     "name": "stdout",
     "output_type": "stream",
     "text": [
      "Validation accuracy: 0.9132596124581516\n",
      "Area under the curve of validation set: 0.9768696693097512\n",
      "Confusion matrix on validation set with threshold 0.5\n",
      " [[19024   763]\n",
      " [ 2657 16984]]\n",
      "Classification Report on validation set, t = 0.5\n",
      "               precision    recall  f1-score   support\n",
      "\n",
      "         0.0       0.88      0.96      0.92     19787\n",
      "         1.0       0.96      0.86      0.91     19641\n",
      "\n",
      "    accuracy                           0.91     39428\n",
      "   macro avg       0.92      0.91      0.91     39428\n",
      "weighted avg       0.92      0.91      0.91     39428\n",
      "\n"
     ]
    }
   ],
   "source": [
    "print(f\"Validation accuracy: {accuracy_score(y_true, p_hats > 0.5)}\")\n",
    "\n",
    "print(f\"Area under the curve of validation set: {roc_auc_score(y_true, p_hats)}\")\n",
    "\n",
    "print(\"Confusion matrix on validation set with threshold 0.5\\n\",confusion_matrix(y_true,  p_hats > 0.5))\n",
    "\n",
    "print(\"Classification Report on validation set, t = 0.5\\n\",classification_report(y_true, p_hats > 0.5))"
   ]
  },
  {
   "cell_type": "code",
   "execution_count": 8,
   "metadata": {},
   "outputs": [
    {
     "data": {
      "image/png": "[encoded data removed]",
      "text/plain": [
       "<Figure size 640x480 with 1 Axes>"
      ]
     },
     "metadata": {},
     "output_type": "display_data"
    }
   ],
   "source": [
    "fpr, tpr, t = roc_curve(y_true, p_hats)\n",
    "\n",
    "plt.plot(fpr, tpr)\n",
    "plt.plot([0,1],[0,1], \"--\")\n",
    "plt.title(\"ROC Curve\")\n",
    "plt.ylabel(\"True positive rate\")\n",
    "plt.xlabel(\"False positive rate\")\n",
    "plt.show()"
   ]
  },
  {
   "cell_type": "markdown",
   "metadata": {},
   "source": [
    "# LSTM with pretrained CNN\n",
    "\n",
    "Now we can build the LSTM network that takes as input the frames of a video embedded as the vector of size 256 produced by the CNN we just trained"
   ]
  },
  {
   "cell_type": "code",
   "execution_count": 3,
   "metadata": {},
   "outputs": [],
   "source": [
    "PROCESSED_DIR = \"../Processed_data\"\n",
    "DEVICE = \"cuda\"\n",
    "BATCH_SIZE = 32\n",
    "\n",
    "CLASS_THRESHOLD = 0.5\n",
    "\n",
    "LR = 0.0001\n"
   ]
  },
  {
   "cell_type": "markdown",
   "metadata": {},
   "source": [
    "## Video Datasets and Dataloaders"
   ]
  },
  {
   "cell_type": "code",
   "execution_count": 4,
   "metadata": {},
   "outputs": [],
   "source": [
    "class VideoDataset(torch.utils.data.Dataset):\n",
    "    def __init__(self, processed_dir = \"../Processed_data\", subset = \"Train\", batch_size = 32, device = \"cuda\"):\n",
    "        self.directory = processed_dir+\"/\"+subset\n",
    "        self.batch_size = batch_size\n",
    "        self.subset = subset\n",
    "        self.device = device\n",
    "\n",
    "        self.videos = self._get_video_paths()\n",
    "        self._shuffle_data()\n",
    "\n",
    "        self.length = int(len(self.videos)/self.batch_size) + 1\n",
    "    \n",
    "    def _get_video_paths(self):\n",
    "        videos = []\n",
    "        for filename in os.listdir(self.directory + \"/real\"):\n",
    "            if filename.endswith(\".npy\"):\n",
    "                videos.append((self.directory + \"/real/\"+ filename,0))\n",
    "        for filename in os.listdir(self.directory + \"/fake\"):\n",
    "            if filename.endswith(\".npy\"):\n",
    "                videos.append((self.directory + \"/fake/\"+ filename,1))\n",
    "        return videos\n",
    "    \n",
    "    def _shuffle_data(self):\n",
    "        np.random.shuffle(self.videos)\n",
    "    \n",
    "    def __len__(self):\n",
    "        return self.length\n",
    "    \n",
    "    def __getitem__(self, index):\n",
    "        #this function will return an array of the following shape:\n",
    "        #(batch_size, n_frames, n_channels, height, width)\n",
    "        # and a vector of length batch_size that indicates the \n",
    "        # class: 0 for real videos, 1 for fake videos\n",
    "        features = []\n",
    "        targets = []\n",
    "        for video_path, label in self.videos[index*self.batch_size:(index+1)*self.batch_size]:\n",
    "            array = torch.from_numpy(np.load(video_path)).permute(0, 3, 1, 2).to(self.device).to(torch.float32)\n",
    "            # To work with nn.Conv2d the dimension that indicates channels \n",
    "            # #has to be the third one, not the last one\n",
    "            features.append(array)\n",
    "            targets.append(label)\n",
    "        return torch.stack(features), torch.tensor(targets).to(self.device).to(torch.float32)\n",
    "    \n",
    "\n",
    "# dataset objects\n",
    "video_train_dataset = VideoDataset(processed_dir = PROCESSED_DIR, subset= \"Train\", batch_size= BATCH_SIZE, device= DEVICE)\n",
    "video_val_dataset = VideoDataset(processed_dir = PROCESSED_DIR, subset= \"Val\", batch_size= BATCH_SIZE, device= DEVICE)\n",
    "\n",
    "# making the dataloader objects\n",
    "# the parameters batch size and collate fn have to be this way, do not change them\n",
    "video_train_dataloader = torch.utils.data.DataLoader(video_train_dataset, batch_size= None, collate_fn= lambda x: x)\n",
    "video_val_dataloader = torch.utils.data.DataLoader(video_val_dataset, batch_size= None, collate_fn= lambda x: x)"
   ]
  },
  {
   "cell_type": "markdown",
   "metadata": {},
   "source": [
    "## Traning function and  Full Model"
   ]
  },
  {
   "cell_type": "code",
   "execution_count": 5,
   "metadata": {},
   "outputs": [],
   "source": [
    "def train_loop(model, epochs, train_loader, val_loader, class_threshold = CLASS_THRESHOLD):\n",
    "\n",
    "    history = dict()\n",
    "\n",
    "    for e in range(1,epochs+1):\n",
    "\n",
    "        model.train()\n",
    "        print(\"-\"*40+f\"|EPOCH {e}|\"+\"-\"*40)\n",
    "        losses = []\n",
    "        for batch, (x,y) in tqdm(enumerate(train_loader),desc = \"Training loop\"):\n",
    "            pred_proba = model(x)\n",
    "            loss_value = model.loss_function(pred_proba,y)\n",
    "            losses.append(loss_value.item())\n",
    "            loss_value.backward()\n",
    "            model.optimizer_function.step()\n",
    "            model.optimizer_function.zero_grad()\n",
    "        print(f\"Train Loss: {np.mean(losses):.5f} | Progress: [{batch+1}/{len(train_loader)}]\")\n",
    "        history[f\"train_loss_epoch_{e}\"] = losses\n",
    "        \n",
    "        model.eval()\n",
    "        loss, correct, val_size = 0,0,0\n",
    "        with torch.no_grad():\n",
    "             for x,y in tqdm(val_loader, desc= \"Validation Loop\"):\n",
    "                  val_size += y.shape[0]\n",
    "                  pred_proba = model(x)\n",
    "                  loss += model.loss_function(pred_proba,y)\n",
    "                  pred_class = (pred_proba > class_threshold).type(torch.float)\n",
    "                  correct += (pred_class == y).type(torch.float).sum().item()\n",
    "        print(f\"Validation Accuracy {(correct/val_size):.2%} | Validation Loss {(loss/len(val_loader)):6f} | Train Loss {np.mean(losses):.5f}\")\n",
    "        history[f\"val_loss_epoch_{e}\"] = loss.item()\n",
    "        history[f\"val_correct_epoch_{e}\"] = correct\n",
    "        history[f\"val_size_epoch_{e}\"] = val_size\n",
    "\n",
    "        torch.save(model, f'pytorch models/double_lstm/double_lstm_pretrained_cnn_{e}_e.pth')\n",
    "        train_loader.dataset._shuffle_data()\n",
    "        val_loader.dataset._shuffle_data()\n",
    "\n",
    "    for key, value in history.items():\n",
    "        if isinstance(value, list):\n",
    "            history[key] = np.mean(value).item()\n",
    "    \n",
    "    return history"
   ]
  },
  {
   "cell_type": "code",
   "execution_count": 6,
   "metadata": {},
   "outputs": [
    {
     "name": "stdout",
     "output_type": "stream",
     "text": [
      "number of parameter:  1093889\n",
      "t_dist_cnn.layer.sequence.0.weight: torch.float32, params: 432, require grad: False\n",
      "t_dist_cnn.layer.sequence.0.bias: torch.float32, params: 16, require grad: False\n",
      "t_dist_cnn.layer.sequence.4.weight: torch.float32, params: 4608, require grad: False\n",
      "t_dist_cnn.layer.sequence.4.bias: torch.float32, params: 32, require grad: False\n",
      "t_dist_cnn.layer.sequence.8.weight: torch.float32, params: 51200, require grad: False\n",
      "t_dist_cnn.layer.sequence.8.bias: torch.float32, params: 64, require grad: False\n",
      "t_dist_cnn.layer.sequence.13.weight: torch.float32, params: 409600, require grad: False\n",
      "t_dist_cnn.layer.sequence.13.bias: torch.float32, params: 256, require grad: False\n",
      "t_dist_cnn.layer.final_layer.0.weight: torch.float32, params: 256, require grad: False\n",
      "t_dist_cnn.layer.final_layer.0.bias: torch.float32, params: 1, require grad: False\n",
      "rnn.weight_ih_l0: torch.float32, params: 262144, require grad: True\n",
      "rnn.weight_hh_l0: torch.float32, params: 262144, require grad: True\n",
      "rnn.bias_ih_l0: torch.float32, params: 1024, require grad: True\n",
      "rnn.bias_hh_l0: torch.float32, params: 1024, require grad: True\n",
      "rnn.weight_ih_l1: torch.float32, params: 262144, require grad: True\n",
      "rnn.weight_hh_l1: torch.float32, params: 262144, require grad: True\n",
      "rnn.bias_ih_l1: torch.float32, params: 1024, require grad: True\n",
      "rnn.bias_hh_l1: torch.float32, params: 1024, require grad: True\n",
      "sequence.0.weight: torch.float32, params: 32768, require grad: True\n",
      "sequence.0.bias: torch.float32, params: 128, require grad: True\n",
      "sequence.3.weight: torch.float32, params: 8192, require grad: True\n",
      "sequence.3.bias: torch.float32, params: 64, require grad: True\n",
      "sequence.6.weight: torch.float32, params: 64, require grad: True\n",
      "sequence.6.bias: torch.float32, params: 1, require grad: True\n"
     ]
    }
   ],
   "source": [
    "# loading the model and setting its parameters to not keep gradients\n",
    "pretrained_cnn = torch.load('pytorch models/pretrainedCNN_15_e.pth')\n",
    "for param in pretrained_cnn.parameters():\n",
    "    param.requires_grad = False\n",
    "\n",
    "# now copying the code I wrote in rnn_pytorch.ipynb\n",
    "\n",
    "# first I define the two classes I need:\n",
    "\n",
    "# defining the time distributed class\n",
    "# returns an embedding for each temporal slice of the input\n",
    "\n",
    "class TimeDistributed(nn.Module):\n",
    "    '''\n",
    "    This object takes a layer or a sequence of layers and applies it to each individual temporal slice of an input.\n",
    "    It returns the embedding produced by the given layers for each temporal slice for each data point in the batch\n",
    "    '''\n",
    "    def __init__(self,layer):\n",
    "        super(TimeDistributed,self).__init__()\n",
    "        self.layer = layer\n",
    "    \n",
    "    def forward(self, x):\n",
    "        batch_size, t_slices , *slice_dims = x.shape\n",
    "        x = x.reshape(batch_size*t_slices, *slice_dims)\n",
    "        p_hat, embedding = self.layer(x)\n",
    "        output_batches, *embedding_shape = embedding.shape\n",
    "        assert output_batches == batch_size * t_slices, f\"Wrong Number of batches in the output: the layers inside TimeDistributed should output {batch_size * t_slices} batches, but got {output_batches} instead\"\n",
    "        embedding = embedding.reshape((batch_size, t_slices, *embedding_shape))\n",
    "        p_hat = p_hat.reshape((batch_size, t_slices))\n",
    "        return p_hat, embedding\n",
    "    \n",
    "\n",
    "# Defining the RNN that detects deepfake videos\n",
    "class DeepFakeDetector(nn.Module):\n",
    "    def __init__(self, cnn, rnn, sequence, loss_function,\n",
    "                 optimizer_constructor,\n",
    "                 optimizer_kwargs = {\"lr\": LR},\n",
    "                 scheduler = False):\n",
    "        super(DeepFakeDetector, self).__init__()\n",
    "        self.t_dist_cnn = TimeDistributed(cnn)\n",
    "        self.rnn = rnn\n",
    "        self.sequence = sequence\n",
    "        self.loss_function = loss_function\n",
    "        self.optimizer_function = optimizer_constructor(self.parameters(),**optimizer_kwargs)\n",
    "        self.scheduler = scheduler\n",
    "        self.to(DEVICE)\n",
    "    \n",
    "    def forward(self, x):\n",
    "        # input x has shape [batch_size, n_frames, n_channels, frame_H, frame_W]\n",
    "        p_hat, embedded_frames = self.t_dist_cnn(x)\n",
    "\n",
    "        self.rnn.flatten_parameters()\n",
    "        #adding this line because it was giving a warning\n",
    "\n",
    "        rnn_out, (h_n, c_n) = self.rnn(embedded_frames)\n",
    "        # from the rnn we only take the final cell state\n",
    "        \n",
    "        pred_proba = self.sequence(c_n[-1,:, :])\n",
    "        # a vector of length batch_size\n",
    "        return pred_proba.flatten()\n",
    "    \n",
    "\n",
    "# defining the rnn that takes the output of time distributed cnn\n",
    "rnn = nn.LSTM(input_size=256, hidden_size= 256,\n",
    "              num_layers= 2, batch_first= True)\n",
    "\n",
    "# now we can build the complete network\n",
    "\n",
    "lstm_pretrained_cnn = DeepFakeDetector(cnn = pretrained_cnn, rnn = rnn,\n",
    "                             sequence=nn.Sequential(\n",
    "                                 nn.Linear(in_features=256, out_features=128),\n",
    "                                 nn.ReLU(),\n",
    "                                 nn.Dropout(0.1),\n",
    "                                 nn.Linear(in_features=128, out_features=64),\n",
    "                                 nn.ReLU(),\n",
    "                                 nn.Dropout(0.1),\n",
    "                                 nn.Linear(64,1),\n",
    "                                 nn.Sigmoid()),\n",
    "                             loss_function=nn.BCELoss(),\n",
    "                             optimizer_constructor= torch.optim.Adam)\n",
    "\n",
    "\n",
    "print(\"number of parameter: \",count_parameters(lstm_pretrained_cnn))\n",
    "\n",
    "# Verify the data types of the parameters\n",
    "for name, param in lstm_pretrained_cnn.named_parameters():\n",
    "    print(f'{name}: {param.dtype}, params: {param.numel()}, require grad: {param.requires_grad}')"
   ]
  },
  {
   "cell_type": "markdown",
   "metadata": {},
   "source": [
    "## Training the full model"
   ]
  },
  {
   "cell_type": "code",
   "execution_count": 7,
   "metadata": {},
   "outputs": [
    {
     "name": "stdout",
     "output_type": "stream",
     "text": [
      "----------------------------------------|EPOCH 1|----------------------------------------\n"
     ]
    },
    {
     "name": "stderr",
     "output_type": "stream",
     "text": [
      "Training loop: 438it [01:49,  4.00it/s]\n"
     ]
    },
    {
     "name": "stdout",
     "output_type": "stream",
     "text": [
      "Train Loss: 0.68099 | Progress: [438/438]\n"
     ]
    },
    {
     "name": "stderr",
     "output_type": "stream",
     "text": [
      "Validation Loop: 100%|██████████| 94/94 [00:11<00:00,  7.88it/s]\n"
     ]
    },
    {
     "name": "stdout",
     "output_type": "stream",
     "text": [
      "Validation Accuracy 58.00% | Validation Loss 0.672546 | Train Loss 0.68099\n",
      "----------------------------------------|EPOCH 2|----------------------------------------\n"
     ]
    },
    {
     "name": "stderr",
     "output_type": "stream",
     "text": [
      "Training loop: 438it [00:51,  8.46it/s]\n"
     ]
    },
    {
     "name": "stdout",
     "output_type": "stream",
     "text": [
      "Train Loss: 0.65115 | Progress: [438/438]\n"
     ]
    },
    {
     "name": "stderr",
     "output_type": "stream",
     "text": [
      "Validation Loop: 100%|██████████| 94/94 [00:11<00:00,  8.41it/s]\n"
     ]
    },
    {
     "name": "stdout",
     "output_type": "stream",
     "text": [
      "Validation Accuracy 63.33% | Validation Loss 0.640185 | Train Loss 0.65115\n",
      "----------------------------------------|EPOCH 3|----------------------------------------\n"
     ]
    },
    {
     "name": "stderr",
     "output_type": "stream",
     "text": [
      "Training loop: 438it [00:51,  8.47it/s]\n"
     ]
    },
    {
     "name": "stdout",
     "output_type": "stream",
     "text": [
      "Train Loss: 0.60676 | Progress: [438/438]\n"
     ]
    },
    {
     "name": "stderr",
     "output_type": "stream",
     "text": [
      "Validation Loop: 100%|██████████| 94/94 [00:11<00:00,  8.47it/s]\n"
     ]
    },
    {
     "name": "stdout",
     "output_type": "stream",
     "text": [
      "Validation Accuracy 66.10% | Validation Loss 0.611322 | Train Loss 0.60676\n",
      "----------------------------------------|EPOCH 4|----------------------------------------\n"
     ]
    },
    {
     "name": "stderr",
     "output_type": "stream",
     "text": [
      "Training loop: 438it [00:52,  8.38it/s]\n"
     ]
    },
    {
     "name": "stdout",
     "output_type": "stream",
     "text": [
      "Train Loss: 0.55188 | Progress: [438/438]\n"
     ]
    },
    {
     "name": "stderr",
     "output_type": "stream",
     "text": [
      "Validation Loop: 100%|██████████| 94/94 [00:11<00:00,  8.41it/s]\n"
     ]
    },
    {
     "name": "stdout",
     "output_type": "stream",
     "text": [
      "Validation Accuracy 67.20% | Validation Loss 0.602939 | Train Loss 0.55188\n",
      "----------------------------------------|EPOCH 5|----------------------------------------\n"
     ]
    },
    {
     "name": "stderr",
     "output_type": "stream",
     "text": [
      "Training loop: 438it [00:52,  8.41it/s]\n"
     ]
    },
    {
     "name": "stdout",
     "output_type": "stream",
     "text": [
      "Train Loss: 0.49196 | Progress: [438/438]\n"
     ]
    },
    {
     "name": "stderr",
     "output_type": "stream",
     "text": [
      "Validation Loop: 100%|██████████| 94/94 [00:11<00:00,  8.47it/s]\n"
     ]
    },
    {
     "name": "stdout",
     "output_type": "stream",
     "text": [
      "Validation Accuracy 75.40% | Validation Loss 0.500684 | Train Loss 0.49196\n",
      "----------------------------------------|EPOCH 6|----------------------------------------\n"
     ]
    },
    {
     "name": "stderr",
     "output_type": "stream",
     "text": [
      "Training loop: 438it [00:50,  8.60it/s]\n"
     ]
    },
    {
     "name": "stdout",
     "output_type": "stream",
     "text": [
      "Train Loss: 0.45737 | Progress: [438/438]\n"
     ]
    },
    {
     "name": "stderr",
     "output_type": "stream",
     "text": [
      "Validation Loop: 100%|██████████| 94/94 [00:11<00:00,  8.37it/s]\n"
     ]
    },
    {
     "name": "stdout",
     "output_type": "stream",
     "text": [
      "Validation Accuracy 77.10% | Validation Loss 0.472487 | Train Loss 0.45737\n",
      "----------------------------------------|EPOCH 7|----------------------------------------\n"
     ]
    },
    {
     "name": "stderr",
     "output_type": "stream",
     "text": [
      "Training loop: 438it [00:51,  8.55it/s]\n"
     ]
    },
    {
     "name": "stdout",
     "output_type": "stream",
     "text": [
      "Train Loss: 0.42344 | Progress: [438/438]\n"
     ]
    },
    {
     "name": "stderr",
     "output_type": "stream",
     "text": [
      "Validation Loop: 100%|██████████| 94/94 [00:11<00:00,  8.51it/s]\n"
     ]
    },
    {
     "name": "stdout",
     "output_type": "stream",
     "text": [
      "Validation Accuracy 77.43% | Validation Loss 0.462504 | Train Loss 0.42344\n",
      "----------------------------------------|EPOCH 8|----------------------------------------\n"
     ]
    },
    {
     "name": "stderr",
     "output_type": "stream",
     "text": [
      "Training loop: 438it [00:51,  8.44it/s]\n"
     ]
    },
    {
     "name": "stdout",
     "output_type": "stream",
     "text": [
      "Train Loss: 0.40297 | Progress: [438/438]\n"
     ]
    },
    {
     "name": "stderr",
     "output_type": "stream",
     "text": [
      "Validation Loop: 100%|██████████| 94/94 [00:11<00:00,  8.41it/s]\n"
     ]
    },
    {
     "name": "stdout",
     "output_type": "stream",
     "text": [
      "Validation Accuracy 75.57% | Validation Loss 0.479049 | Train Loss 0.40297\n",
      "----------------------------------------|EPOCH 9|----------------------------------------\n"
     ]
    },
    {
     "name": "stderr",
     "output_type": "stream",
     "text": [
      "Training loop: 438it [00:52,  8.42it/s]\n"
     ]
    },
    {
     "name": "stdout",
     "output_type": "stream",
     "text": [
      "Train Loss: 0.38380 | Progress: [438/438]\n"
     ]
    },
    {
     "name": "stderr",
     "output_type": "stream",
     "text": [
      "Validation Loop: 100%|██████████| 94/94 [00:11<00:00,  8.38it/s]\n"
     ]
    },
    {
     "name": "stdout",
     "output_type": "stream",
     "text": [
      "Validation Accuracy 75.77% | Validation Loss 0.497359 | Train Loss 0.38380\n",
      "----------------------------------------|EPOCH 10|----------------------------------------\n"
     ]
    },
    {
     "name": "stderr",
     "output_type": "stream",
     "text": [
      "Training loop: 438it [00:51,  8.55it/s]\n"
     ]
    },
    {
     "name": "stdout",
     "output_type": "stream",
     "text": [
      "Train Loss: 0.36569 | Progress: [438/438]\n"
     ]
    },
    {
     "name": "stderr",
     "output_type": "stream",
     "text": [
      "Validation Loop: 100%|██████████| 94/94 [00:11<00:00,  8.33it/s]\n"
     ]
    },
    {
     "name": "stdout",
     "output_type": "stream",
     "text": [
      "Validation Accuracy 77.97% | Validation Loss 0.448817 | Train Loss 0.36569\n",
      "----------------------------------------|EPOCH 11|----------------------------------------\n"
     ]
    },
    {
     "name": "stderr",
     "output_type": "stream",
     "text": [
      "Training loop: 438it [00:51,  8.46it/s]\n"
     ]
    },
    {
     "name": "stdout",
     "output_type": "stream",
     "text": [
      "Train Loss: 0.36119 | Progress: [438/438]\n"
     ]
    },
    {
     "name": "stderr",
     "output_type": "stream",
     "text": [
      "Validation Loop: 100%|██████████| 94/94 [00:11<00:00,  8.36it/s]\n"
     ]
    },
    {
     "name": "stdout",
     "output_type": "stream",
     "text": [
      "Validation Accuracy 75.57% | Validation Loss 0.480154 | Train Loss 0.36119\n",
      "----------------------------------------|EPOCH 12|----------------------------------------\n"
     ]
    },
    {
     "name": "stderr",
     "output_type": "stream",
     "text": [
      "Training loop: 438it [00:52,  8.41it/s]\n"
     ]
    },
    {
     "name": "stdout",
     "output_type": "stream",
     "text": [
      "Train Loss: 0.35069 | Progress: [438/438]\n"
     ]
    },
    {
     "name": "stderr",
     "output_type": "stream",
     "text": [
      "Validation Loop: 100%|██████████| 94/94 [00:11<00:00,  8.38it/s]\n"
     ]
    },
    {
     "name": "stdout",
     "output_type": "stream",
     "text": [
      "Validation Accuracy 82.47% | Validation Loss 0.384495 | Train Loss 0.35069\n",
      "----------------------------------------|EPOCH 13|----------------------------------------\n"
     ]
    },
    {
     "name": "stderr",
     "output_type": "stream",
     "text": [
      "Training loop: 438it [00:51,  8.42it/s]\n"
     ]
    },
    {
     "name": "stdout",
     "output_type": "stream",
     "text": [
      "Train Loss: 0.34065 | Progress: [438/438]\n"
     ]
    },
    {
     "name": "stderr",
     "output_type": "stream",
     "text": [
      "Validation Loop: 100%|██████████| 94/94 [00:11<00:00,  8.41it/s]\n"
     ]
    },
    {
     "name": "stdout",
     "output_type": "stream",
     "text": [
      "Validation Accuracy 74.20% | Validation Loss 0.527645 | Train Loss 0.34065\n",
      "----------------------------------------|EPOCH 14|----------------------------------------\n"
     ]
    },
    {
     "name": "stderr",
     "output_type": "stream",
     "text": [
      "Training loop: 438it [00:51,  8.50it/s]\n"
     ]
    },
    {
     "name": "stdout",
     "output_type": "stream",
     "text": [
      "Train Loss: 0.33900 | Progress: [438/438]\n"
     ]
    },
    {
     "name": "stderr",
     "output_type": "stream",
     "text": [
      "Validation Loop: 100%|██████████| 94/94 [00:11<00:00,  8.35it/s]\n"
     ]
    },
    {
     "name": "stdout",
     "output_type": "stream",
     "text": [
      "Validation Accuracy 81.03% | Validation Loss 0.399345 | Train Loss 0.33900\n",
      "----------------------------------------|EPOCH 15|----------------------------------------\n"
     ]
    },
    {
     "name": "stderr",
     "output_type": "stream",
     "text": [
      "Training loop: 438it [00:52,  8.39it/s]\n"
     ]
    },
    {
     "name": "stdout",
     "output_type": "stream",
     "text": [
      "Train Loss: 0.32770 | Progress: [438/438]\n"
     ]
    },
    {
     "name": "stderr",
     "output_type": "stream",
     "text": [
      "Validation Loop: 100%|██████████| 94/94 [00:11<00:00,  8.38it/s]\n"
     ]
    },
    {
     "name": "stdout",
     "output_type": "stream",
     "text": [
      "Validation Accuracy 75.13% | Validation Loss 0.510679 | Train Loss 0.32770\n",
      "----------------------------------------|EPOCH 16|----------------------------------------\n"
     ]
    },
    {
     "name": "stderr",
     "output_type": "stream",
     "text": [
      "Training loop: 438it [00:52,  8.33it/s]\n"
     ]
    },
    {
     "name": "stdout",
     "output_type": "stream",
     "text": [
      "Train Loss: 0.32449 | Progress: [438/438]\n"
     ]
    },
    {
     "name": "stderr",
     "output_type": "stream",
     "text": [
      "Validation Loop: 100%|██████████| 94/94 [00:11<00:00,  8.48it/s]\n"
     ]
    },
    {
     "name": "stdout",
     "output_type": "stream",
     "text": [
      "Validation Accuracy 75.23% | Validation Loss 0.489707 | Train Loss 0.32449\n",
      "----------------------------------------|EPOCH 17|----------------------------------------\n"
     ]
    },
    {
     "name": "stderr",
     "output_type": "stream",
     "text": [
      "Training loop: 438it [00:51,  8.44it/s]\n"
     ]
    },
    {
     "name": "stdout",
     "output_type": "stream",
     "text": [
      "Train Loss: 0.31684 | Progress: [438/438]\n"
     ]
    },
    {
     "name": "stderr",
     "output_type": "stream",
     "text": [
      "Validation Loop: 100%|██████████| 94/94 [00:11<00:00,  8.46it/s]\n"
     ]
    },
    {
     "name": "stdout",
     "output_type": "stream",
     "text": [
      "Validation Accuracy 83.60% | Validation Loss 0.371286 | Train Loss 0.31684\n",
      "----------------------------------------|EPOCH 18|----------------------------------------\n"
     ]
    },
    {
     "name": "stderr",
     "output_type": "stream",
     "text": [
      "Training loop: 438it [00:51,  8.48it/s]\n"
     ]
    },
    {
     "name": "stdout",
     "output_type": "stream",
     "text": [
      "Train Loss: 0.31248 | Progress: [438/438]\n"
     ]
    },
    {
     "name": "stderr",
     "output_type": "stream",
     "text": [
      "Validation Loop: 100%|██████████| 94/94 [00:11<00:00,  8.38it/s]\n"
     ]
    },
    {
     "name": "stdout",
     "output_type": "stream",
     "text": [
      "Validation Accuracy 77.60% | Validation Loss 0.489477 | Train Loss 0.31248\n",
      "----------------------------------------|EPOCH 19|----------------------------------------\n"
     ]
    },
    {
     "name": "stderr",
     "output_type": "stream",
     "text": [
      "Training loop: 438it [00:51,  8.45it/s]\n"
     ]
    },
    {
     "name": "stdout",
     "output_type": "stream",
     "text": [
      "Train Loss: 0.30253 | Progress: [438/438]\n"
     ]
    },
    {
     "name": "stderr",
     "output_type": "stream",
     "text": [
      "Validation Loop: 100%|██████████| 94/94 [00:11<00:00,  8.49it/s]\n"
     ]
    },
    {
     "name": "stdout",
     "output_type": "stream",
     "text": [
      "Validation Accuracy 81.17% | Validation Loss 0.403705 | Train Loss 0.30253\n",
      "----------------------------------------|EPOCH 20|----------------------------------------\n"
     ]
    },
    {
     "name": "stderr",
     "output_type": "stream",
     "text": [
      "Training loop: 438it [00:51,  8.45it/s]\n"
     ]
    },
    {
     "name": "stdout",
     "output_type": "stream",
     "text": [
      "Train Loss: 0.29818 | Progress: [438/438]\n"
     ]
    },
    {
     "name": "stderr",
     "output_type": "stream",
     "text": [
      "Validation Loop: 100%|██████████| 94/94 [00:11<00:00,  8.47it/s]\n"
     ]
    },
    {
     "name": "stdout",
     "output_type": "stream",
     "text": [
      "Validation Accuracy 78.33% | Validation Loss 0.434872 | Train Loss 0.29818\n",
      "----------------------------------------|EPOCH 21|----------------------------------------\n"
     ]
    },
    {
     "name": "stderr",
     "output_type": "stream",
     "text": [
      "Training loop: 438it [00:59,  7.41it/s]\n"
     ]
    },
    {
     "name": "stdout",
     "output_type": "stream",
     "text": [
      "Train Loss: 0.28952 | Progress: [438/438]\n"
     ]
    },
    {
     "name": "stderr",
     "output_type": "stream",
     "text": [
      "Validation Loop: 100%|██████████| 94/94 [00:13<00:00,  7.01it/s]\n"
     ]
    },
    {
     "name": "stdout",
     "output_type": "stream",
     "text": [
      "Validation Accuracy 82.53% | Validation Loss 0.381901 | Train Loss 0.28952\n",
      "----------------------------------------|EPOCH 22|----------------------------------------\n"
     ]
    },
    {
     "name": "stderr",
     "output_type": "stream",
     "text": [
      "Training loop: 438it [01:02,  7.06it/s]\n"
     ]
    },
    {
     "name": "stdout",
     "output_type": "stream",
     "text": [
      "Train Loss: 0.29349 | Progress: [438/438]\n"
     ]
    },
    {
     "name": "stderr",
     "output_type": "stream",
     "text": [
      "Validation Loop: 100%|██████████| 94/94 [00:11<00:00,  8.29it/s]\n"
     ]
    },
    {
     "name": "stdout",
     "output_type": "stream",
     "text": [
      "Validation Accuracy 79.67% | Validation Loss 0.443863 | Train Loss 0.29349\n",
      "----------------------------------------|EPOCH 23|----------------------------------------\n"
     ]
    },
    {
     "name": "stderr",
     "output_type": "stream",
     "text": [
      "Training loop: 438it [00:52,  8.30it/s]\n"
     ]
    },
    {
     "name": "stdout",
     "output_type": "stream",
     "text": [
      "Train Loss: 0.28308 | Progress: [438/438]\n"
     ]
    },
    {
     "name": "stderr",
     "output_type": "stream",
     "text": [
      "Validation Loop: 100%|██████████| 94/94 [00:11<00:00,  8.40it/s]\n"
     ]
    },
    {
     "name": "stdout",
     "output_type": "stream",
     "text": [
      "Validation Accuracy 82.43% | Validation Loss 0.389618 | Train Loss 0.28308\n",
      "----------------------------------------|EPOCH 24|----------------------------------------\n"
     ]
    },
    {
     "name": "stderr",
     "output_type": "stream",
     "text": [
      "Training loop: 438it [00:52,  8.39it/s]\n"
     ]
    },
    {
     "name": "stdout",
     "output_type": "stream",
     "text": [
      "Train Loss: 0.27726 | Progress: [438/438]\n"
     ]
    },
    {
     "name": "stderr",
     "output_type": "stream",
     "text": [
      "Validation Loop: 100%|██████████| 94/94 [00:10<00:00,  8.65it/s]\n"
     ]
    },
    {
     "name": "stdout",
     "output_type": "stream",
     "text": [
      "Validation Accuracy 78.73% | Validation Loss 0.473187 | Train Loss 0.27726\n",
      "----------------------------------------|EPOCH 25|----------------------------------------\n"
     ]
    },
    {
     "name": "stderr",
     "output_type": "stream",
     "text": [
      "Training loop: 438it [00:54,  7.98it/s]\n"
     ]
    },
    {
     "name": "stdout",
     "output_type": "stream",
     "text": [
      "Train Loss: 0.27569 | Progress: [438/438]\n"
     ]
    },
    {
     "name": "stderr",
     "output_type": "stream",
     "text": [
      "Validation Loop: 100%|██████████| 94/94 [00:12<00:00,  7.59it/s]\n"
     ]
    },
    {
     "name": "stdout",
     "output_type": "stream",
     "text": [
      "Validation Accuracy 81.47% | Validation Loss 0.392502 | Train Loss 0.27569\n",
      "----------------------------------------|EPOCH 26|----------------------------------------\n"
     ]
    },
    {
     "name": "stderr",
     "output_type": "stream",
     "text": [
      "Training loop: 438it [00:58,  7.55it/s]\n"
     ]
    },
    {
     "name": "stdout",
     "output_type": "stream",
     "text": [
      "Train Loss: 0.26805 | Progress: [438/438]\n"
     ]
    },
    {
     "name": "stderr",
     "output_type": "stream",
     "text": [
      "Validation Loop: 100%|██████████| 94/94 [00:11<00:00,  8.32it/s]\n"
     ]
    },
    {
     "name": "stdout",
     "output_type": "stream",
     "text": [
      "Validation Accuracy 83.47% | Validation Loss 0.357784 | Train Loss 0.26805\n",
      "----------------------------------------|EPOCH 27|----------------------------------------\n"
     ]
    },
    {
     "name": "stderr",
     "output_type": "stream",
     "text": [
      "Training loop: 438it [00:52,  8.32it/s]\n"
     ]
    },
    {
     "name": "stdout",
     "output_type": "stream",
     "text": [
      "Train Loss: 0.26142 | Progress: [438/438]\n"
     ]
    },
    {
     "name": "stderr",
     "output_type": "stream",
     "text": [
      "Validation Loop: 100%|██████████| 94/94 [00:11<00:00,  8.46it/s]\n"
     ]
    },
    {
     "name": "stdout",
     "output_type": "stream",
     "text": [
      "Validation Accuracy 79.17% | Validation Loss 0.452773 | Train Loss 0.26142\n",
      "----------------------------------------|EPOCH 28|----------------------------------------\n"
     ]
    },
    {
     "name": "stderr",
     "output_type": "stream",
     "text": [
      "Training loop: 438it [00:51,  8.43it/s]\n"
     ]
    },
    {
     "name": "stdout",
     "output_type": "stream",
     "text": [
      "Train Loss: 0.25934 | Progress: [438/438]\n"
     ]
    },
    {
     "name": "stderr",
     "output_type": "stream",
     "text": [
      "Validation Loop: 100%|██████████| 94/94 [00:10<00:00,  8.56it/s]\n"
     ]
    },
    {
     "name": "stdout",
     "output_type": "stream",
     "text": [
      "Validation Accuracy 81.23% | Validation Loss 0.402325 | Train Loss 0.25934\n",
      "----------------------------------------|EPOCH 29|----------------------------------------\n"
     ]
    },
    {
     "name": "stderr",
     "output_type": "stream",
     "text": [
      "Training loop: 438it [00:51,  8.46it/s]\n"
     ]
    },
    {
     "name": "stdout",
     "output_type": "stream",
     "text": [
      "Train Loss: 0.25656 | Progress: [438/438]\n"
     ]
    },
    {
     "name": "stderr",
     "output_type": "stream",
     "text": [
      "Validation Loop: 100%|██████████| 94/94 [00:11<00:00,  8.54it/s]\n"
     ]
    },
    {
     "name": "stdout",
     "output_type": "stream",
     "text": [
      "Validation Accuracy 82.00% | Validation Loss 0.386470 | Train Loss 0.25656\n",
      "----------------------------------------|EPOCH 30|----------------------------------------\n"
     ]
    },
    {
     "name": "stderr",
     "output_type": "stream",
     "text": [
      "Training loop: 438it [00:55,  7.84it/s]\n"
     ]
    },
    {
     "name": "stdout",
     "output_type": "stream",
     "text": [
      "Train Loss: 0.25054 | Progress: [438/438]\n"
     ]
    },
    {
     "name": "stderr",
     "output_type": "stream",
     "text": [
      "Validation Loop: 100%|██████████| 94/94 [00:12<00:00,  7.44it/s]"
     ]
    },
    {
     "name": "stdout",
     "output_type": "stream",
     "text": [
      "Validation Accuracy 80.00% | Validation Loss 0.434205 | Train Loss 0.25054\n"
     ]
    },
    {
     "name": "stderr",
     "output_type": "stream",
     "text": [
      "\n"
     ]
    }
   ],
   "source": [
    "history = train_loop(lstm_pretrained_cnn, epochs= 30,\n",
    "           train_loader= video_train_dataloader,\n",
    "           val_loader=video_val_dataloader)\n"
   ]
  },
  {
   "cell_type": "code",
   "execution_count": 8,
   "metadata": {},
   "outputs": [
    {
     "data": {
      "image/png": "[encoded data removed]",
      "text/plain": [
       "<Figure size 1500x500 with 2 Axes>"
      ]
     },
     "metadata": {},
     "output_type": "display_data"
    }
   ],
   "source": [
    "train_loss = []\n",
    "val_accuracy = []\n",
    "val_loss = []\n",
    "\n",
    "for key, value, in history.items():\n",
    "    if key.startswith(\"train_loss\"):\n",
    "        train_loss.append(value)\n",
    "    if key.startswith(\"val_loss\"):\n",
    "        val_loss.append(value/len(video_val_dataloader))\n",
    "    if key.startswith(\"val_correct\"):\n",
    "        val_accuracy.append(value/3000)\n",
    "\n",
    "epochs = list(range(1,len(train_loss)+1))\n",
    "\n",
    "import matplotlib.pyplot as plt\n",
    "\n",
    "# Plotting accuracy\n",
    "plt.figure(figsize=(15,5))\n",
    "plt.subplot(1, 2, 1)\n",
    "plt.plot(epochs, val_accuracy, label='Val Set')\n",
    "plt.legend(loc=\"best\")\n",
    "plt.xlabel('Epochs')\n",
    "plt.ylabel('Accuracy')\n",
    "plt.title('Model Accuracy')\n",
    "plt.xticks(ticks=range(1, len(epochs) + 1), \n",
    "           labels=[str(int(round(x))) for x in range(1, len(epochs) + 1)])\n",
    "\n",
    "\n",
    "# Plotting loss\n",
    "plt.subplot(1, 2, 2)\n",
    "plt.plot(epochs, train_loss, label='Train Set')\n",
    "plt.plot(epochs, val_loss, label='Val Set')\n",
    "plt.legend(loc=\"best\")\n",
    "plt.xlabel('Epochs')\n",
    "plt.ylabel('Loss')\n",
    "plt.title('Model Loss')\n",
    "plt.xticks(ticks=range(1, len(epochs) + 1), \n",
    "           labels=[str(int(round(x))) for x in range(1, len(epochs) + 1)])\n",
    "\n",
    "plt.tight_layout()\n",
    "plt.show()"
   ]
  },
  {
   "cell_type": "markdown",
   "metadata": {},
   "source": [
    "## Classification Report"
   ]
  },
  {
   "cell_type": "code",
   "execution_count": 9,
   "metadata": {},
   "outputs": [
    {
     "name": "stderr",
     "output_type": "stream",
     "text": [
      "100%|██████████| 94/94 [00:05<00:00, 18.50it/s]\n"
     ]
    },
    {
     "data": {
      "image/png": "[encoded data removed]",
      "text/plain": [
       "<Figure size 640x480 with 1 Axes>"
      ]
     },
     "metadata": {},
     "output_type": "display_data"
    }
   ],
   "source": [
    "from sklearn.metrics import accuracy_score, roc_auc_score, classification_report, confusion_matrix, roc_curve\n",
    "import matplotlib.pyplot as plt\n",
    "\n",
    "lstm_pretrained_cnn.eval()\n",
    "y_true = []\n",
    "p_hats = []\n",
    "\n",
    "with torch.no_grad():\n",
    "    for x,y in tqdm(video_val_dataloader):\n",
    "        p_hat= lstm_pretrained_cnn(x)\n",
    "        p_hats.append(p_hat.to(\"cpu\"))\n",
    "        y_true.append(y.to(\"cpu\"))\n",
    "\n",
    "y_true = torch.cat(y_true).numpy()\n",
    "p_hats = torch.cat(p_hats).numpy()\n",
    "plt.hist(p_hats)\n",
    "plt.title(\"Distribution of predicted values\")\n",
    "plt.show()"
   ]
  },
  {
   "cell_type": "code",
   "execution_count": 10,
   "metadata": {},
   "outputs": [
    {
     "name": "stdout",
     "output_type": "stream",
     "text": [
      "Validation accuracy: 0.8\n",
      "Area under the curve of validation set: 0.9524228888888889\n",
      "Confusion matrix on validation set with threshold 0.5\n",
      " [[ 913  587]\n",
      " [  13 1487]]\n",
      "Classification Report on validation set, t = 0.5\n",
      "               precision    recall  f1-score   support\n",
      "\n",
      "         0.0       0.99      0.61      0.75      1500\n",
      "         1.0       0.72      0.99      0.83      1500\n",
      "\n",
      "    accuracy                           0.80      3000\n",
      "   macro avg       0.85      0.80      0.79      3000\n",
      "weighted avg       0.85      0.80      0.79      3000\n",
      "\n"
     ]
    }
   ],
   "source": [
    "print(f\"Validation accuracy: {accuracy_score(y_true, p_hats > 0.5)}\")\n",
    "\n",
    "print(f\"Area under the curve of validation set: {roc_auc_score(y_true, p_hats)}\")\n",
    "\n",
    "print(\"Confusion matrix on validation set with threshold 0.5\\n\",confusion_matrix(y_true,  p_hats > 0.5))\n",
    "\n",
    "print(\"Classification Report on validation set, t = 0.5\\n\",classification_report(y_true, p_hats > 0.5))"
   ]
  },
  {
   "cell_type": "code",
   "execution_count": 11,
   "metadata": {},
   "outputs": [
    {
     "data": {
      "image/png": "[encoded data removed]",
      "text/plain": [
       "<Figure size 640x480 with 1 Axes>"
      ]
     },
     "metadata": {},
     "output_type": "display_data"
    }
   ],
   "source": [
    "fpr, tpr, t = roc_curve(y_true, p_hats)\n",
    "\n",
    "plt.plot(fpr, tpr)\n",
    "plt.plot([0,1],[0,1], \"--\")\n",
    "plt.title(\"ROC Curve\")\n",
    "plt.ylabel(\"True positive rate\")\n",
    "plt.xlabel(\"False positive rate\")\n",
    "plt.show()"
   ]
  }
 ],
 "metadata": {
  "kernelspec": {
   "display_name": "pt",
   "language": "python",
   "name": "python3"
  },
  "language_info": {
   "codemirror_mode": {
    "name": "ipython",
    "version": 3
   },
   "file_extension": ".py",
   "mimetype": "text/x-python",
   "name": "python",
   "nbconvert_exporter": "python",
   "pygments_lexer": "ipython3",
   "version": "3.11.9"
  }
 },
 "nbformat": 4,
 "nbformat_minor": 2
}
