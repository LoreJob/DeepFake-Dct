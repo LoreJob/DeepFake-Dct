{
  "cells": [
    {
      "cell_type": "markdown",
      "source": [
        "# DEEP FAKE DETECTOR\n"
      ],
      "metadata": {
        "id": "bTNPS8CiumLZ"
      }
    },
    {
      "cell_type": "markdown",
      "metadata": {
        "id": "knObUu4w4crU"
      },
      "source": [
        "### Packages\n",
        "\n",
        "\n"
      ]
    },
    {
      "cell_type": "code",
      "source": [
        "# Only if you don't have it installed\n",
        "# !pip install pathos\n",
        "\n",
        "import os\n",
        "import tensorflow as tf\n",
        "from matplotlib import pyplot as plt\n",
        "import cv2\n",
        "import numpy as np\n",
        "\n",
        "from tensorflow.keras import models, layers\n",
        "from tensorflow.keras.models import Sequential\n",
        "from tensorflow.keras.layers import Conv2D, MaxPooling2D, Dense, Flatten, Dropout\n",
        "from tensorflow.keras.metrics import Precision, Recall, BinaryAccuracy\n",
        "from tensorflow.keras.utils import Sequence\n",
        "from tensorflow.keras.preprocessing.image import ImageDataGenerator\n",
        "\n",
        "from tqdm import tqdm\n",
        "import time\n",
        "from pathos.multiprocessing import ProcessingPool as Pool\n",
        "from multiprocessing import cpu_count\n",
        "import json\n",
        "import random\n",
        "import sys"
      ],
      "metadata": {
        "colab": {
          "base_uri": "https://localhost:8080/"
        },
        "id": "OIkCtTnFudjU",
        "outputId": "f2f663e8-2116-4722-d5f4-b1ff193e98da"
      },
      "execution_count": 1,
      "outputs": [
        {
          "output_type": "stream",
          "name": "stdout",
          "text": [
            "Collecting pathos\n",
            "  Downloading pathos-0.3.2-py3-none-any.whl.metadata (11 kB)\n",
            "Collecting ppft>=1.7.6.8 (from pathos)\n",
            "  Downloading ppft-1.7.6.8-py3-none-any.whl.metadata (12 kB)\n",
            "Collecting dill>=0.3.8 (from pathos)\n",
            "  Downloading dill-0.3.8-py3-none-any.whl.metadata (10 kB)\n",
            "Collecting pox>=0.3.4 (from pathos)\n",
            "  Downloading pox-0.3.4-py3-none-any.whl.metadata (8.0 kB)\n",
            "Collecting multiprocess>=0.70.16 (from pathos)\n",
            "  Downloading multiprocess-0.70.16-py310-none-any.whl.metadata (7.2 kB)\n",
            "Downloading pathos-0.3.2-py3-none-any.whl (82 kB)\n",
            "\u001b[2K   \u001b[90m━━━━━━━━━━━━━━━━━━━━━━━━━━━━━━━━━━━━━━━━\u001b[0m \u001b[32m82.1/82.1 kB\u001b[0m \u001b[31m1.2 MB/s\u001b[0m eta \u001b[36m0:00:00\u001b[0m\n",
            "\u001b[?25hDownloading dill-0.3.8-py3-none-any.whl (116 kB)\n",
            "\u001b[2K   \u001b[90m━━━━━━━━━━━━━━━━━━━━━━━━━━━━━━━━━━━━━━━━\u001b[0m \u001b[32m116.3/116.3 kB\u001b[0m \u001b[31m2.8 MB/s\u001b[0m eta \u001b[36m0:00:00\u001b[0m\n",
            "\u001b[?25hDownloading multiprocess-0.70.16-py310-none-any.whl (134 kB)\n",
            "\u001b[2K   \u001b[90m━━━━━━━━━━━━━━━━━━━━━━━━━━━━━━━━━━━━━━━━\u001b[0m \u001b[32m134.8/134.8 kB\u001b[0m \u001b[31m5.0 MB/s\u001b[0m eta \u001b[36m0:00:00\u001b[0m\n",
            "\u001b[?25hDownloading pox-0.3.4-py3-none-any.whl (29 kB)\n",
            "Downloading ppft-1.7.6.8-py3-none-any.whl (56 kB)\n",
            "\u001b[2K   \u001b[90m━━━━━━━━━━━━━━━━━━━━━━━━━━━━━━━━━━━━━━━━\u001b[0m \u001b[32m56.8/56.8 kB\u001b[0m \u001b[31m3.1 MB/s\u001b[0m eta \u001b[36m0:00:00\u001b[0m\n",
            "\u001b[?25hInstalling collected packages: ppft, pox, dill, multiprocess, pathos\n",
            "Successfully installed dill-0.3.8 multiprocess-0.70.16 pathos-0.3.2 pox-0.3.4 ppft-1.7.6.8\n"
          ]
        }
      ]
    },
    {
      "cell_type": "code",
      "source": [
        "# If you are working from Colab\n",
        "\n",
        "from google.colab import drive\n",
        "drive.mount('/content/drive')\n",
        "\n",
        "# This can make faster the training because you are storing the file in local on colab, so you can use the 100% power of the GPU/TPU\n",
        "\n",
        "!cp -r /content/drive/MyDrive/Colab\\ Notebooks/DF-DCT/Processed_data /content/"
      ],
      "metadata": {
        "colab": {
          "base_uri": "https://localhost:8080/"
        },
        "id": "AfABexMY_gcI",
        "outputId": "f77a193f-60a6-491b-c7dd-6235107f50b6"
      },
      "execution_count": 2,
      "outputs": [
        {
          "output_type": "stream",
          "name": "stdout",
          "text": [
            "Mounted at /content/drive\n"
          ]
        }
      ]
    },
    {
      "cell_type": "markdown",
      "source": [
        "## Data"
      ],
      "metadata": {
        "id": "ztp41UoGxQ1R"
      }
    },
    {
      "cell_type": "code",
      "source": [
        "# Need to determine the values of the files\n",
        "\n",
        "VIDEO_WIDTH, VIDEO_HEIGHT = 64, 64\n",
        "MAX_FRAMES = 40  # Number of frames of a video that will be fed to the model as one sequence\n",
        "BATCH_SIZE = 32\n",
        "\n",
        "DATASET_DIR = \"Video Dataset Small\"\n",
        "PROCESSED_DIR = \"/content/Processed_data\"\n",
        "CLASSES = [\"fake\", \"real\"]"
      ],
      "metadata": {
        "id": "djOBZLb7un_l"
      },
      "execution_count": 6,
      "outputs": []
    },
    {
      "cell_type": "code",
      "source": [
        "# Data Loader, iterable object that generates the batch\n",
        "\n",
        "class VideoDataGenerator(Sequence):\n",
        "    def __init__(self, data_dir, subset, batch_size=BATCH_SIZE):\n",
        "        self.data_dir = data_dir\n",
        "        self.subset = subset\n",
        "        self.batch_size = batch_size\n",
        "        self.classes = ['real', 'fake']\n",
        "        self.videos = self._get_video_paths()\n",
        "        self.on_epoch_end()\n",
        "\n",
        "    def _get_video_paths(self):\n",
        "        videos = []\n",
        "        subset_dir = os.path.join(self.data_dir, self.subset)\n",
        "        for class_name in self.classes:\n",
        "            class_dir = os.path.join(subset_dir, class_name)\n",
        "            for video_name in os.listdir(class_dir):\n",
        "                if video_name.endswith('.npy'):\n",
        "                    videos.append((os.path.join(class_dir, video_name), self.classes.index(class_name)))\n",
        "        return videos\n",
        "\n",
        "    def __len__(self):\n",
        "        return len(self.videos) // self.batch_size\n",
        "\n",
        "    def __getitem__(self, idx):\n",
        "        batch_videos = self.videos[idx * self.batch_size:(idx + 1) * self.batch_size]\n",
        "        batch_frames = []\n",
        "        batch_labels = []\n",
        "\n",
        "        for video_path, label in batch_videos:\n",
        "            frames = np.load(video_path)\n",
        "            batch_frames.append(frames)\n",
        "            batch_labels.append(label)\n",
        "\n",
        "        return np.array(batch_frames), np.array(batch_labels)\n",
        "\n",
        "    def on_epoch_end(self):\n",
        "        np.random.shuffle(self.videos)\n",
        "\n",
        "\n",
        "train_generator = VideoDataGenerator(PROCESSED_DIR, \"Train\")\n",
        "val_generator = VideoDataGenerator(PROCESSED_DIR, \"Val\")\n",
        "test_generator = VideoDataGenerator(PROCESSED_DIR, \"Test\")"
      ],
      "metadata": {
        "id": "7LKd3e7ouYbm"
      },
      "execution_count": 7,
      "outputs": []
    },
    {
      "cell_type": "markdown",
      "source": [
        "## Creating the model\n"
      ],
      "metadata": {
        "id": "XwqXDII-xVTu"
      }
    },
    {
      "cell_type": "markdown",
      "source": [
        "### CNN"
      ],
      "metadata": {
        "id": "hn266msmxaXp"
      }
    },
    {
      "cell_type": "code",
      "source": [
        "# Here we will add the model that performed the best on the img dataset without the last dense layer\n",
        "\n",
        "CNN_model = models.Sequential([\n",
        "    layers.Conv2D(16, (3, 3), activation='relu', kernel_regularizer=tf.keras.regularizers.l2(0.0001)),\n",
        "    layers.MaxPooling2D(),\n",
        "    layers.Dropout(0.1),  # Dropout layer with 10% rate\n",
        "\n",
        "    layers.Conv2D(32, (3, 3), activation='relu', kernel_regularizer=tf.keras.regularizers.l2(0.0001)),\n",
        "    layers.MaxPooling2D((2,2)),\n",
        "    layers.Dropout(0.1),  # Dropout layer with 10% rate\n",
        "\n",
        "    layers.Conv2D(64, (5, 5), activation='relu',kernel_regularizer=tf.keras.regularizers.l2(0.0001)),\n",
        "    layers.MaxPooling2D((2,2)),\n",
        "    layers.Dropout(0.4),\n",
        "\n",
        "    layers.Flatten(),\n",
        "\n",
        "    layers.Dense(256, activation='relu',kernel_regularizer=tf.keras.regularizers.l2(0.0001)),\n",
        "\n",
        "])"
      ],
      "metadata": {
        "id": "NkeFuKrau9-M"
      },
      "execution_count": 15,
      "outputs": []
    },
    {
      "cell_type": "markdown",
      "source": [
        "### LSTM"
      ],
      "metadata": {
        "id": "-EEnGReFxcEM"
      }
    },
    {
      "cell_type": "code",
      "source": [
        "CNN_LSTM_model = models.Sequential()\n",
        "\n",
        "# Input\n",
        "CNN_LSTM_model.add(layers.Input((MAX_FRAMES, VIDEO_WIDTH, VIDEO_HEIGHT, 3))) # 3 are the channels\n",
        "\n",
        "# Adding the time distributed CNN\n",
        "CNN_LSTM_model.add(layers.TimeDistributed(CNN_model))\n",
        "\n",
        "# Creating the LSTM part\n",
        "CNN_LSTM_model.add(layers.LSTM(64, return_sequences=False))\n",
        "CNN_LSTM_model.add(layers.Dense(64, activation='relu'))\n",
        "CNN_LSTM_model.add(layers.Dropout(0.25)) # Dropout layer with 25% rate\n",
        "CNN_LSTM_model.add(layers.Dense(1, activation='sigmoid'))\n",
        "\n",
        "# Compiling the model\n",
        "optimizer = tf.keras.optimizers.Adam(learning_rate=0.001)\n",
        "\n",
        "CNN_LSTM_model.compile(optimizer=optimizer,\n",
        "              loss='binary_crossentropy',\n",
        "              metrics=['accuracy'])\n",
        "\n",
        "CNN_LSTM_model.summary()"
      ],
      "metadata": {
        "colab": {
          "base_uri": "https://localhost:8080/"
        },
        "id": "2J8STBvAu8cn",
        "outputId": "01d1e32e-7f73-4de0-f45e-fd1a4593bbed"
      },
      "execution_count": 16,
      "outputs": [
        {
          "output_type": "stream",
          "name": "stdout",
          "text": [
            "Model: \"sequential_5\"\n",
            "_________________________________________________________________\n",
            " Layer (type)                Output Shape              Param #   \n",
            "=================================================================\n",
            " time_distributed_2 (TimeDi  (None, 40, 256)           466208    \n",
            " stributed)                                                      \n",
            "                                                                 \n",
            " lstm_2 (LSTM)               (None, 64)                82176     \n",
            "                                                                 \n",
            " dense_7 (Dense)             (None, 64)                4160      \n",
            "                                                                 \n",
            " dropout_11 (Dropout)        (None, 64)                0         \n",
            "                                                                 \n",
            " dense_8 (Dense)             (None, 1)                 65        \n",
            "                                                                 \n",
            "=================================================================\n",
            "Total params: 552609 (2.11 MB)\n",
            "Trainable params: 552609 (2.11 MB)\n",
            "Non-trainable params: 0 (0.00 Byte)\n",
            "_________________________________________________________________\n"
          ]
        }
      ]
    },
    {
      "cell_type": "markdown",
      "source": [
        "### Training"
      ],
      "metadata": {
        "id": "Wxq7cUj8xez5"
      }
    },
    {
      "cell_type": "code",
      "source": [
        "checkpoint_callback = tf.keras.callbacks.ModelCheckpoint(\n",
        "    filepath='model_epoch_{epoch:02d}.keras',\n",
        "    save_best_only=False,\n",
        "    save_weights_only=False,\n",
        "    save_freq='epoch')\n",
        "\n",
        "history = CNN_LSTM_model.fit(\n",
        "    train_generator,\n",
        "    validation_data=val_generator,\n",
        "    epochs=20,\n",
        "    callbacks=[checkpoint_callback])\n",
        "\n",
        "# Saving the history on a JSON file in order to not loose the results and run everytime the code\n",
        "with open('history.json', 'w') as f:\n",
        "    json.dump(history.history, f)"
      ],
      "metadata": {
        "id": "nlBif9ItvAuk",
        "colab": {
          "base_uri": "https://localhost:8080/"
        },
        "outputId": "99f2f51c-f16c-470e-d0df-76fbc1faf33c"
      },
      "execution_count": 17,
      "outputs": [
        {
          "output_type": "stream",
          "name": "stdout",
          "text": [
            "Epoch 1/20\n",
            "437/437 [==============================] - 105s 234ms/step - loss: 0.6970 - accuracy: 0.5551 - val_loss: 0.6576 - val_accuracy: 0.6297\n",
            "Epoch 2/20\n",
            "437/437 [==============================] - 100s 228ms/step - loss: 0.5079 - accuracy: 0.7659 - val_loss: 0.3347 - val_accuracy: 0.8767\n",
            "Epoch 3/20\n",
            "437/437 [==============================] - 100s 228ms/step - loss: 0.2888 - accuracy: 0.8902 - val_loss: 0.2072 - val_accuracy: 0.9318\n",
            "Epoch 4/20\n",
            "437/437 [==============================] - 99s 227ms/step - loss: 0.1793 - accuracy: 0.9392 - val_loss: 0.1298 - val_accuracy: 0.9597\n",
            "Epoch 5/20\n",
            "437/437 [==============================] - 99s 227ms/step - loss: 0.1290 - accuracy: 0.9607 - val_loss: 0.1260 - val_accuracy: 0.9627\n",
            "Epoch 6/20\n",
            "437/437 [==============================] - 99s 226ms/step - loss: 0.1039 - accuracy: 0.9710 - val_loss: 0.1190 - val_accuracy: 0.9691\n",
            "Epoch 7/20\n",
            "437/437 [==============================] - 99s 227ms/step - loss: 0.0859 - accuracy: 0.9759 - val_loss: 0.0910 - val_accuracy: 0.9778\n",
            "Epoch 8/20\n",
            "437/437 [==============================] - 99s 227ms/step - loss: 0.0815 - accuracy: 0.9790 - val_loss: 0.0731 - val_accuracy: 0.9819\n",
            "Epoch 9/20\n",
            "437/437 [==============================] - 98s 225ms/step - loss: 0.0704 - accuracy: 0.9837 - val_loss: 0.0706 - val_accuracy: 0.9808\n",
            "Epoch 10/20\n",
            "437/437 [==============================] - 98s 224ms/step - loss: 0.0670 - accuracy: 0.9831 - val_loss: 0.0768 - val_accuracy: 0.9805\n",
            "Epoch 11/20\n",
            "437/437 [==============================] - 98s 224ms/step - loss: 0.0676 - accuracy: 0.9848 - val_loss: 0.0773 - val_accuracy: 0.9812\n",
            "Epoch 12/20\n",
            "437/437 [==============================] - 98s 223ms/step - loss: 0.0514 - accuracy: 0.9900 - val_loss: 0.0794 - val_accuracy: 0.9812\n",
            "Epoch 13/20\n",
            "437/437 [==============================] - 97s 222ms/step - loss: 0.0549 - accuracy: 0.9881 - val_loss: 0.1089 - val_accuracy: 0.9758\n",
            "Epoch 14/20\n",
            "437/437 [==============================] - 99s 226ms/step - loss: 0.0548 - accuracy: 0.9885 - val_loss: 0.0896 - val_accuracy: 0.9772\n",
            "Epoch 15/20\n",
            "437/437 [==============================] - 99s 226ms/step - loss: 0.0559 - accuracy: 0.9887 - val_loss: 0.0871 - val_accuracy: 0.9792\n",
            "Epoch 16/20\n",
            "437/437 [==============================] - 99s 226ms/step - loss: 0.0456 - accuracy: 0.9918 - val_loss: 0.0967 - val_accuracy: 0.9788\n",
            "Epoch 17/20\n",
            "437/437 [==============================] - 99s 228ms/step - loss: 0.0483 - accuracy: 0.9911 - val_loss: 0.0785 - val_accuracy: 0.9808\n",
            "Epoch 18/20\n",
            "437/437 [==============================] - 98s 225ms/step - loss: 0.0434 - accuracy: 0.9929 - val_loss: 0.0697 - val_accuracy: 0.9862\n",
            "Epoch 19/20\n",
            "437/437 [==============================] - 98s 225ms/step - loss: 0.0490 - accuracy: 0.9916 - val_loss: 0.0731 - val_accuracy: 0.9852\n",
            "Epoch 20/20\n",
            "437/437 [==============================] - 98s 225ms/step - loss: 0.0501 - accuracy: 0.9903 - val_loss: 0.1036 - val_accuracy: 0.9768\n"
          ]
        }
      ]
    },
    {
      "cell_type": "markdown",
      "source": [
        "## Evaluation"
      ],
      "metadata": {
        "id": "zFL3mZAGxitO"
      }
    },
    {
      "cell_type": "code",
      "source": [
        "# Loading different epochs to see wich is better\n",
        "model_path = '/content/model_epoch_18.keras'\n",
        "CNN_LSTM_model.load_weights(model_path)\n",
        "\n",
        "# Evaluating the model\n",
        "test_loss, test_accuracy = CNN_LSTM_model.evaluate(test_generator, verbose=1)\n",
        "print(f\"Test Loss: {test_loss}\")\n",
        "print(f\"Test Accuracy: {test_accuracy}\")"
      ],
      "metadata": {
        "colab": {
          "base_uri": "https://localhost:8080/"
        },
        "id": "MV4iaYmlo3Go",
        "outputId": "a95bc7f8-1262-46a8-c29c-07d0a9448cb9"
      },
      "execution_count": 55,
      "outputs": [
        {
          "output_type": "stream",
          "name": "stdout",
          "text": [
            "93/93 [==============================] - 6s 66ms/step - loss: 0.0911 - accuracy: 0.9778\n",
            "Test Loss: 0.09113491326570511\n",
            "Test Accuracy: 0.9778226017951965\n"
          ]
        }
      ]
    },
    {
      "cell_type": "code",
      "source": [
        "model_path = '/content/model_epoch_20.keras'\n",
        "CNN_LSTM_model.load_weights(model_path)\n",
        "\n",
        "# Evaluating the model\n",
        "test_loss, test_accuracy = CNN_LSTM_model.evaluate(test_generator, verbose=1)\n",
        "print(f\"Test Loss: {test_loss}\")\n",
        "print(f\"Test Accuracy: {test_accuracy}\")"
      ],
      "metadata": {
        "colab": {
          "base_uri": "https://localhost:8080/"
        },
        "id": "OAm5frBqj5wh",
        "outputId": "8eb1ef29-e132-4084-b480-ae03bf133f03"
      },
      "execution_count": 53,
      "outputs": [
        {
          "output_type": "stream",
          "name": "stdout",
          "text": [
            "93/93 [==============================] - 6s 67ms/step - loss: 0.0911 - accuracy: 0.9778\n",
            "Test Loss: 0.09113235771656036\n",
            "Test Accuracy: 0.9778226017951965\n"
          ]
        }
      ]
    },
    {
      "cell_type": "markdown",
      "source": [
        "### Classification report"
      ],
      "metadata": {
        "id": "63JO8GGXwxhY"
      }
    },
    {
      "cell_type": "code",
      "source": [
        "from sklearn.metrics import classification_report, confusion_matrix\n",
        "\n",
        "y_true = []\n",
        "for _, labels in test_generator:\n",
        "    y_true.extend(labels.flatten())\n",
        "y_true = np.array(y_true)\n",
        "\n",
        "# Confusion matrix\n",
        "y_pred = CNN_LSTM_model.predict(test_generator)\n",
        "y_pred_classes = (y_pred > 0.5).astype(\"int32\").flatten()\n",
        "cm = confusion_matrix(y_true, y_pred_classes)\n",
        "print(\"Confusion Matrix:\")\n",
        "print(cm)\n",
        "\n",
        "\n",
        "# Classification report\n",
        "report = classification_report(y_true, y_pred_classes, target_names=CLASSES)\n",
        "print(\"Classification Report:\")\n",
        "print(report)\n",
        "\n"
      ],
      "metadata": {
        "colab": {
          "base_uri": "https://localhost:8080/"
        },
        "id": "iE9sb5sikIID",
        "outputId": "1966a20b-f011-492e-cd3d-7caf8fc2317d"
      },
      "execution_count": 56,
      "outputs": [
        {
          "output_type": "stream",
          "name": "stdout",
          "text": [
            "93/93 [==============================] - 6s 63ms/step\n",
            "Confusion Matrix:\n",
            "[[1439   46]\n",
            " [  19 1472]]\n",
            "Classification Report:\n",
            "              precision    recall  f1-score   support\n",
            "\n",
            "        fake       0.99      0.97      0.98      1485\n",
            "        real       0.97      0.99      0.98      1491\n",
            "\n",
            "    accuracy                           0.98      2976\n",
            "   macro avg       0.98      0.98      0.98      2976\n",
            "weighted avg       0.98      0.98      0.98      2976\n",
            "\n"
          ]
        }
      ]
    },
    {
      "cell_type": "code",
      "source": [
        "# Plot model performance\n",
        "acc = history.history['accuracy']\n",
        "val_acc = history.history['val_accuracy']\n",
        "loss = history.history['loss']\n",
        "val_loss = history.history['val_loss']\n",
        "epochs = range(1, len(acc) + 1)\n",
        "\n",
        "# Plotting accuracy\n",
        "plt.figure(figsize=(15,5))\n",
        "plt.subplot(1, 2, 1)\n",
        "plt.plot(epochs, acc, label='Train Set')\n",
        "plt.plot(epochs, val_acc, label='Val Set')\n",
        "plt.legend(loc=\"best\")\n",
        "plt.xlabel('Epochs')\n",
        "plt.ylabel('Accuracy')\n",
        "plt.title('Model Accuracy')\n",
        "plt.xticks(ticks=range(1, len(epochs) + 1),\n",
        "           labels=[str(int(round(x))) for x in range(1, len(epochs) + 1)])\n",
        "\n",
        "\n",
        "# Plotting loss\n",
        "plt.subplot(1, 2, 2)\n",
        "plt.plot(epochs, loss, label='Train Set')\n",
        "plt.plot(epochs, val_loss, label='Val Set')\n",
        "plt.legend(loc=\"best\")\n",
        "plt.xlabel('Epochs')\n",
        "plt.ylabel('Loss')\n",
        "plt.title('Model Loss')\n",
        "plt.xticks(ticks=range(1, len(epochs) + 1),\n",
        "           labels=[str(int(round(x))) for x in range(1, len(epochs) + 1)])\n",
        "\n",
        "plt.tight_layout()\n",
        "plt.show()"
      ],
      "metadata": {
        "colab": {
          "base_uri": "https://localhost:8080/",
          "height": 507
        },
        "id": "NpZvCZKMdsnv",
        "outputId": "9a079c61-4e99-4f32-bf32-68e290b40d0d"
      },
      "execution_count": 39,
      "outputs": [
        {
          "output_type": "display_data",
          "data": {
            "text/plain": [
              "<Figure size 1500x500 with 2 Axes>"
            ],
            "image/png": "[encoded data removed]"
          },
          "metadata": {}
        }
      ]
    }
  ],
  "metadata": {
    "accelerator": "TPU",
    "colab": {
      "gpuType": "V28",
      "provenance": [],
      "machine_shape": "hm"
    },
    "kernelspec": {
      "display_name": "Python 3",
      "name": "python3"
    },
    "language_info": {
      "codemirror_mode": {
        "name": "ipython",
        "version": 3
      },
      "file_extension": ".py",
      "mimetype": "text/x-python",
      "name": "python",
      "nbconvert_exporter": "python",
      "pygments_lexer": "ipython3",
      "version": "3.11.9"
    }
  },
  "nbformat": 4,
  "nbformat_minor": 0
}